{
  "nbformat": 4,
  "nbformat_minor": 0,
  "metadata": {
    "colab": {
      "provenance": []
    },
    "kernelspec": {
      "name": "python3",
      "display_name": "Python 3"
    },
    "language_info": {
      "name": "python"
    }
  },
  "cells": [
    {
      "cell_type": "code",
      "execution_count": null,
      "metadata": {
        "id": "XF8GbL-4f5bI"
      },
      "outputs": [],
      "source": []
    },
    {
      "cell_type": "code",
      "source": [
        "from google.colab import drive\n",
        "drive.mount('/content/drive')"
      ],
      "metadata": {
        "colab": {
          "base_uri": "https://localhost:8080/"
        },
        "id": "GIdWlk0tgSMg",
        "outputId": "4f2b4ae7-b373-44de-a64b-13cf0f85c159"
      },
      "execution_count": null,
      "outputs": [
        {
          "output_type": "stream",
          "name": "stdout",
          "text": [
            "Drive already mounted at /content/drive; to attempt to forcibly remount, call drive.mount(\"/content/drive\", force_remount=True).\n"
          ]
        }
      ]
    },
    {
      "cell_type": "code",
      "source": [
        "import numpy as np\n",
        "import pandas as pd\n",
        "import matplotlib.pyplot as plt\n",
        "import seaborn as sns\n",
        "\n",
        "%matplotlib inline\n",
        "\n",
        "import os\n",
        "print(os.listdir())\n",
        "\n",
        "import warnings\n",
        "warnings.filterwarnings('ignore')"
      ],
      "metadata": {
        "colab": {
          "base_uri": "https://localhost:8080/"
        },
        "id": "6tLMmz8ugiwI",
        "outputId": "c246ec6c-dbf1-403a-fe27-733e1e61c738"
      },
      "execution_count": null,
      "outputs": [
        {
          "output_type": "stream",
          "name": "stdout",
          "text": [
            "['.config', 'drive', 'sample_data']\n"
          ]
        }
      ]
    },
    {
      "cell_type": "code",
      "source": [
        "hdata = pd.read_csv('/content/drive/MyDrive/DATASETS/heart.csv')"
      ],
      "metadata": {
        "id": "9i_U1U4yEy8g"
      },
      "execution_count": null,
      "outputs": []
    },
    {
      "cell_type": "code",
      "source": [
        "hdata.head()"
      ],
      "metadata": {
        "colab": {
          "base_uri": "https://localhost:8080/",
          "height": 206
        },
        "id": "MXEZLr8jg_pq",
        "outputId": "143fd8ec-9ad6-4476-a675-bdf8535a4885"
      },
      "execution_count": null,
      "outputs": [
        {
          "output_type": "execute_result",
          "data": {
            "text/plain": [
              "   age  sex  cp  trestbps  chol  fbs  restecg  thalach  exang  oldpeak  slope  \\\n",
              "0   63    1   3       145   233    1        0      150      0      2.3      0   \n",
              "1   37    1   2       130   250    0        1      187      0      3.5      0   \n",
              "2   41    0   1       130   204    0        0      172      0      1.4      2   \n",
              "3   56    1   1       120   236    0        1      178      0      0.8      2   \n",
              "4   57    0   0       120   354    0        1      163      1      0.6      2   \n",
              "\n",
              "   ca  thal  target  \n",
              "0   0     1       1  \n",
              "1   0     2       1  \n",
              "2   0     2       1  \n",
              "3   0     2       1  \n",
              "4   0     2       1  "
            ],
            "text/html": [
              "\n",
              "  <div id=\"df-0ca9863f-ff88-428b-a407-6ac2b947ce1d\">\n",
              "    <div class=\"colab-df-container\">\n",
              "      <div>\n",
              "<style scoped>\n",
              "    .dataframe tbody tr th:only-of-type {\n",
              "        vertical-align: middle;\n",
              "    }\n",
              "\n",
              "    .dataframe tbody tr th {\n",
              "        vertical-align: top;\n",
              "    }\n",
              "\n",
              "    .dataframe thead th {\n",
              "        text-align: right;\n",
              "    }\n",
              "</style>\n",
              "<table border=\"1\" class=\"dataframe\">\n",
              "  <thead>\n",
              "    <tr style=\"text-align: right;\">\n",
              "      <th></th>\n",
              "      <th>age</th>\n",
              "      <th>sex</th>\n",
              "      <th>cp</th>\n",
              "      <th>trestbps</th>\n",
              "      <th>chol</th>\n",
              "      <th>fbs</th>\n",
              "      <th>restecg</th>\n",
              "      <th>thalach</th>\n",
              "      <th>exang</th>\n",
              "      <th>oldpeak</th>\n",
              "      <th>slope</th>\n",
              "      <th>ca</th>\n",
              "      <th>thal</th>\n",
              "      <th>target</th>\n",
              "    </tr>\n",
              "  </thead>\n",
              "  <tbody>\n",
              "    <tr>\n",
              "      <th>0</th>\n",
              "      <td>63</td>\n",
              "      <td>1</td>\n",
              "      <td>3</td>\n",
              "      <td>145</td>\n",
              "      <td>233</td>\n",
              "      <td>1</td>\n",
              "      <td>0</td>\n",
              "      <td>150</td>\n",
              "      <td>0</td>\n",
              "      <td>2.3</td>\n",
              "      <td>0</td>\n",
              "      <td>0</td>\n",
              "      <td>1</td>\n",
              "      <td>1</td>\n",
              "    </tr>\n",
              "    <tr>\n",
              "      <th>1</th>\n",
              "      <td>37</td>\n",
              "      <td>1</td>\n",
              "      <td>2</td>\n",
              "      <td>130</td>\n",
              "      <td>250</td>\n",
              "      <td>0</td>\n",
              "      <td>1</td>\n",
              "      <td>187</td>\n",
              "      <td>0</td>\n",
              "      <td>3.5</td>\n",
              "      <td>0</td>\n",
              "      <td>0</td>\n",
              "      <td>2</td>\n",
              "      <td>1</td>\n",
              "    </tr>\n",
              "    <tr>\n",
              "      <th>2</th>\n",
              "      <td>41</td>\n",
              "      <td>0</td>\n",
              "      <td>1</td>\n",
              "      <td>130</td>\n",
              "      <td>204</td>\n",
              "      <td>0</td>\n",
              "      <td>0</td>\n",
              "      <td>172</td>\n",
              "      <td>0</td>\n",
              "      <td>1.4</td>\n",
              "      <td>2</td>\n",
              "      <td>0</td>\n",
              "      <td>2</td>\n",
              "      <td>1</td>\n",
              "    </tr>\n",
              "    <tr>\n",
              "      <th>3</th>\n",
              "      <td>56</td>\n",
              "      <td>1</td>\n",
              "      <td>1</td>\n",
              "      <td>120</td>\n",
              "      <td>236</td>\n",
              "      <td>0</td>\n",
              "      <td>1</td>\n",
              "      <td>178</td>\n",
              "      <td>0</td>\n",
              "      <td>0.8</td>\n",
              "      <td>2</td>\n",
              "      <td>0</td>\n",
              "      <td>2</td>\n",
              "      <td>1</td>\n",
              "    </tr>\n",
              "    <tr>\n",
              "      <th>4</th>\n",
              "      <td>57</td>\n",
              "      <td>0</td>\n",
              "      <td>0</td>\n",
              "      <td>120</td>\n",
              "      <td>354</td>\n",
              "      <td>0</td>\n",
              "      <td>1</td>\n",
              "      <td>163</td>\n",
              "      <td>1</td>\n",
              "      <td>0.6</td>\n",
              "      <td>2</td>\n",
              "      <td>0</td>\n",
              "      <td>2</td>\n",
              "      <td>1</td>\n",
              "    </tr>\n",
              "  </tbody>\n",
              "</table>\n",
              "</div>\n",
              "      <button class=\"colab-df-convert\" onclick=\"convertToInteractive('df-0ca9863f-ff88-428b-a407-6ac2b947ce1d')\"\n",
              "              title=\"Convert this dataframe to an interactive table.\"\n",
              "              style=\"display:none;\">\n",
              "        \n",
              "  <svg xmlns=\"http://www.w3.org/2000/svg\" height=\"24px\"viewBox=\"0 0 24 24\"\n",
              "       width=\"24px\">\n",
              "    <path d=\"M0 0h24v24H0V0z\" fill=\"none\"/>\n",
              "    <path d=\"M18.56 5.44l.94 2.06.94-2.06 2.06-.94-2.06-.94-.94-2.06-.94 2.06-2.06.94zm-11 1L8.5 8.5l.94-2.06 2.06-.94-2.06-.94L8.5 2.5l-.94 2.06-2.06.94zm10 10l.94 2.06.94-2.06 2.06-.94-2.06-.94-.94-2.06-.94 2.06-2.06.94z\"/><path d=\"M17.41 7.96l-1.37-1.37c-.4-.4-.92-.59-1.43-.59-.52 0-1.04.2-1.43.59L10.3 9.45l-7.72 7.72c-.78.78-.78 2.05 0 2.83L4 21.41c.39.39.9.59 1.41.59.51 0 1.02-.2 1.41-.59l7.78-7.78 2.81-2.81c.8-.78.8-2.07 0-2.86zM5.41 20L4 18.59l7.72-7.72 1.47 1.35L5.41 20z\"/>\n",
              "  </svg>\n",
              "      </button>\n",
              "      \n",
              "  <style>\n",
              "    .colab-df-container {\n",
              "      display:flex;\n",
              "      flex-wrap:wrap;\n",
              "      gap: 12px;\n",
              "    }\n",
              "\n",
              "    .colab-df-convert {\n",
              "      background-color: #E8F0FE;\n",
              "      border: none;\n",
              "      border-radius: 50%;\n",
              "      cursor: pointer;\n",
              "      display: none;\n",
              "      fill: #1967D2;\n",
              "      height: 32px;\n",
              "      padding: 0 0 0 0;\n",
              "      width: 32px;\n",
              "    }\n",
              "\n",
              "    .colab-df-convert:hover {\n",
              "      background-color: #E2EBFA;\n",
              "      box-shadow: 0px 1px 2px rgba(60, 64, 67, 0.3), 0px 1px 3px 1px rgba(60, 64, 67, 0.15);\n",
              "      fill: #174EA6;\n",
              "    }\n",
              "\n",
              "    [theme=dark] .colab-df-convert {\n",
              "      background-color: #3B4455;\n",
              "      fill: #D2E3FC;\n",
              "    }\n",
              "\n",
              "    [theme=dark] .colab-df-convert:hover {\n",
              "      background-color: #434B5C;\n",
              "      box-shadow: 0px 1px 3px 1px rgba(0, 0, 0, 0.15);\n",
              "      filter: drop-shadow(0px 1px 2px rgba(0, 0, 0, 0.3));\n",
              "      fill: #FFFFFF;\n",
              "    }\n",
              "  </style>\n",
              "\n",
              "      <script>\n",
              "        const buttonEl =\n",
              "          document.querySelector('#df-0ca9863f-ff88-428b-a407-6ac2b947ce1d button.colab-df-convert');\n",
              "        buttonEl.style.display =\n",
              "          google.colab.kernel.accessAllowed ? 'block' : 'none';\n",
              "\n",
              "        async function convertToInteractive(key) {\n",
              "          const element = document.querySelector('#df-0ca9863f-ff88-428b-a407-6ac2b947ce1d');\n",
              "          const dataTable =\n",
              "            await google.colab.kernel.invokeFunction('convertToInteractive',\n",
              "                                                     [key], {});\n",
              "          if (!dataTable) return;\n",
              "\n",
              "          const docLinkHtml = 'Like what you see? Visit the ' +\n",
              "            '<a target=\"_blank\" href=https://colab.research.google.com/notebooks/data_table.ipynb>data table notebook</a>'\n",
              "            + ' to learn more about interactive tables.';\n",
              "          element.innerHTML = '';\n",
              "          dataTable['output_type'] = 'display_data';\n",
              "          await google.colab.output.renderOutput(dataTable, element);\n",
              "          const docLink = document.createElement('div');\n",
              "          docLink.innerHTML = docLinkHtml;\n",
              "          element.appendChild(docLink);\n",
              "        }\n",
              "      </script>\n",
              "    </div>\n",
              "  </div>\n",
              "  "
            ]
          },
          "metadata": {},
          "execution_count": 5
        }
      ]
    },
    {
      "cell_type": "markdown",
      "source": [
        "**Checking The Data Size Both Column and Row**"
      ],
      "metadata": {
        "id": "noABXLYuj5VD"
      }
    },
    {
      "cell_type": "code",
      "source": [
        "hdata.shape"
      ],
      "metadata": {
        "colab": {
          "base_uri": "https://localhost:8080/"
        },
        "id": "yHW9Nje6hGGg",
        "outputId": "bd466f62-9ea5-4bff-9f6b-f6f0cf3acc9d"
      },
      "execution_count": null,
      "outputs": [
        {
          "output_type": "execute_result",
          "data": {
            "text/plain": [
              "(303, 14)"
            ]
          },
          "metadata": {},
          "execution_count": 6
        }
      ]
    },
    {
      "cell_type": "markdown",
      "source": [
        "**Is there any null value present in the dataset or not.**"
      ],
      "metadata": {
        "id": "lxVSRVTQkGFO"
      }
    },
    {
      "cell_type": "code",
      "source": [
        "hdata.isnull().sum()"
      ],
      "metadata": {
        "colab": {
          "base_uri": "https://localhost:8080/"
        },
        "id": "txwpd-pThsZo",
        "outputId": "614e670a-87d7-4574-97e2-538158856573"
      },
      "execution_count": null,
      "outputs": [
        {
          "output_type": "execute_result",
          "data": {
            "text/plain": [
              "age         0\n",
              "sex         0\n",
              "cp          0\n",
              "trestbps    0\n",
              "chol        0\n",
              "fbs         0\n",
              "restecg     0\n",
              "thalach     0\n",
              "exang       0\n",
              "oldpeak     0\n",
              "slope       0\n",
              "ca          0\n",
              "thal        0\n",
              "target      0\n",
              "dtype: int64"
            ]
          },
          "metadata": {},
          "execution_count": 7
        }
      ]
    },
    {
      "cell_type": "code",
      "source": [
        "hdata.info()"
      ],
      "metadata": {
        "colab": {
          "base_uri": "https://localhost:8080/"
        },
        "id": "4-3FF9IehSs6",
        "outputId": "ae57e4a1-7672-4158-c2c2-96a27fb0fb3f"
      },
      "execution_count": null,
      "outputs": [
        {
          "output_type": "stream",
          "name": "stdout",
          "text": [
            "<class 'pandas.core.frame.DataFrame'>\n",
            "RangeIndex: 303 entries, 0 to 302\n",
            "Data columns (total 14 columns):\n",
            " #   Column    Non-Null Count  Dtype  \n",
            "---  ------    --------------  -----  \n",
            " 0   age       303 non-null    int64  \n",
            " 1   sex       303 non-null    int64  \n",
            " 2   cp        303 non-null    int64  \n",
            " 3   trestbps  303 non-null    int64  \n",
            " 4   chol      303 non-null    int64  \n",
            " 5   fbs       303 non-null    int64  \n",
            " 6   restecg   303 non-null    int64  \n",
            " 7   thalach   303 non-null    int64  \n",
            " 8   exang     303 non-null    int64  \n",
            " 9   oldpeak   303 non-null    float64\n",
            " 10  slope     303 non-null    int64  \n",
            " 11  ca        303 non-null    int64  \n",
            " 12  thal      303 non-null    int64  \n",
            " 13  target    303 non-null    int64  \n",
            "dtypes: float64(1), int64(13)\n",
            "memory usage: 33.3 KB\n"
          ]
        }
      ]
    },
    {
      "cell_type": "code",
      "source": [
        "hdata.describe()"
      ],
      "metadata": {
        "id": "hpsPvWW_h0F2",
        "colab": {
          "base_uri": "https://localhost:8080/",
          "height": 300
        },
        "outputId": "ad320190-939b-479b-c433-22ec3cfb22b3"
      },
      "execution_count": null,
      "outputs": [
        {
          "output_type": "execute_result",
          "data": {
            "text/plain": [
              "              age         sex          cp    trestbps        chol         fbs  \\\n",
              "count  303.000000  303.000000  303.000000  303.000000  303.000000  303.000000   \n",
              "mean    54.366337    0.683168    0.966997  131.623762  246.264026    0.148515   \n",
              "std      9.082101    0.466011    1.032052   17.538143   51.830751    0.356198   \n",
              "min     29.000000    0.000000    0.000000   94.000000  126.000000    0.000000   \n",
              "25%     47.500000    0.000000    0.000000  120.000000  211.000000    0.000000   \n",
              "50%     55.000000    1.000000    1.000000  130.000000  240.000000    0.000000   \n",
              "75%     61.000000    1.000000    2.000000  140.000000  274.500000    0.000000   \n",
              "max     77.000000    1.000000    3.000000  200.000000  564.000000    1.000000   \n",
              "\n",
              "          restecg     thalach       exang     oldpeak       slope          ca  \\\n",
              "count  303.000000  303.000000  303.000000  303.000000  303.000000  303.000000   \n",
              "mean     0.528053  149.646865    0.326733    1.039604    1.399340    0.729373   \n",
              "std      0.525860   22.905161    0.469794    1.161075    0.616226    1.022606   \n",
              "min      0.000000   71.000000    0.000000    0.000000    0.000000    0.000000   \n",
              "25%      0.000000  133.500000    0.000000    0.000000    1.000000    0.000000   \n",
              "50%      1.000000  153.000000    0.000000    0.800000    1.000000    0.000000   \n",
              "75%      1.000000  166.000000    1.000000    1.600000    2.000000    1.000000   \n",
              "max      2.000000  202.000000    1.000000    6.200000    2.000000    4.000000   \n",
              "\n",
              "             thal      target  \n",
              "count  303.000000  303.000000  \n",
              "mean     2.313531    0.544554  \n",
              "std      0.612277    0.498835  \n",
              "min      0.000000    0.000000  \n",
              "25%      2.000000    0.000000  \n",
              "50%      2.000000    1.000000  \n",
              "75%      3.000000    1.000000  \n",
              "max      3.000000    1.000000  "
            ],
            "text/html": [
              "\n",
              "  <div id=\"df-964fd037-21d5-462d-a3d2-3482c7dd8058\">\n",
              "    <div class=\"colab-df-container\">\n",
              "      <div>\n",
              "<style scoped>\n",
              "    .dataframe tbody tr th:only-of-type {\n",
              "        vertical-align: middle;\n",
              "    }\n",
              "\n",
              "    .dataframe tbody tr th {\n",
              "        vertical-align: top;\n",
              "    }\n",
              "\n",
              "    .dataframe thead th {\n",
              "        text-align: right;\n",
              "    }\n",
              "</style>\n",
              "<table border=\"1\" class=\"dataframe\">\n",
              "  <thead>\n",
              "    <tr style=\"text-align: right;\">\n",
              "      <th></th>\n",
              "      <th>age</th>\n",
              "      <th>sex</th>\n",
              "      <th>cp</th>\n",
              "      <th>trestbps</th>\n",
              "      <th>chol</th>\n",
              "      <th>fbs</th>\n",
              "      <th>restecg</th>\n",
              "      <th>thalach</th>\n",
              "      <th>exang</th>\n",
              "      <th>oldpeak</th>\n",
              "      <th>slope</th>\n",
              "      <th>ca</th>\n",
              "      <th>thal</th>\n",
              "      <th>target</th>\n",
              "    </tr>\n",
              "  </thead>\n",
              "  <tbody>\n",
              "    <tr>\n",
              "      <th>count</th>\n",
              "      <td>303.000000</td>\n",
              "      <td>303.000000</td>\n",
              "      <td>303.000000</td>\n",
              "      <td>303.000000</td>\n",
              "      <td>303.000000</td>\n",
              "      <td>303.000000</td>\n",
              "      <td>303.000000</td>\n",
              "      <td>303.000000</td>\n",
              "      <td>303.000000</td>\n",
              "      <td>303.000000</td>\n",
              "      <td>303.000000</td>\n",
              "      <td>303.000000</td>\n",
              "      <td>303.000000</td>\n",
              "      <td>303.000000</td>\n",
              "    </tr>\n",
              "    <tr>\n",
              "      <th>mean</th>\n",
              "      <td>54.366337</td>\n",
              "      <td>0.683168</td>\n",
              "      <td>0.966997</td>\n",
              "      <td>131.623762</td>\n",
              "      <td>246.264026</td>\n",
              "      <td>0.148515</td>\n",
              "      <td>0.528053</td>\n",
              "      <td>149.646865</td>\n",
              "      <td>0.326733</td>\n",
              "      <td>1.039604</td>\n",
              "      <td>1.399340</td>\n",
              "      <td>0.729373</td>\n",
              "      <td>2.313531</td>\n",
              "      <td>0.544554</td>\n",
              "    </tr>\n",
              "    <tr>\n",
              "      <th>std</th>\n",
              "      <td>9.082101</td>\n",
              "      <td>0.466011</td>\n",
              "      <td>1.032052</td>\n",
              "      <td>17.538143</td>\n",
              "      <td>51.830751</td>\n",
              "      <td>0.356198</td>\n",
              "      <td>0.525860</td>\n",
              "      <td>22.905161</td>\n",
              "      <td>0.469794</td>\n",
              "      <td>1.161075</td>\n",
              "      <td>0.616226</td>\n",
              "      <td>1.022606</td>\n",
              "      <td>0.612277</td>\n",
              "      <td>0.498835</td>\n",
              "    </tr>\n",
              "    <tr>\n",
              "      <th>min</th>\n",
              "      <td>29.000000</td>\n",
              "      <td>0.000000</td>\n",
              "      <td>0.000000</td>\n",
              "      <td>94.000000</td>\n",
              "      <td>126.000000</td>\n",
              "      <td>0.000000</td>\n",
              "      <td>0.000000</td>\n",
              "      <td>71.000000</td>\n",
              "      <td>0.000000</td>\n",
              "      <td>0.000000</td>\n",
              "      <td>0.000000</td>\n",
              "      <td>0.000000</td>\n",
              "      <td>0.000000</td>\n",
              "      <td>0.000000</td>\n",
              "    </tr>\n",
              "    <tr>\n",
              "      <th>25%</th>\n",
              "      <td>47.500000</td>\n",
              "      <td>0.000000</td>\n",
              "      <td>0.000000</td>\n",
              "      <td>120.000000</td>\n",
              "      <td>211.000000</td>\n",
              "      <td>0.000000</td>\n",
              "      <td>0.000000</td>\n",
              "      <td>133.500000</td>\n",
              "      <td>0.000000</td>\n",
              "      <td>0.000000</td>\n",
              "      <td>1.000000</td>\n",
              "      <td>0.000000</td>\n",
              "      <td>2.000000</td>\n",
              "      <td>0.000000</td>\n",
              "    </tr>\n",
              "    <tr>\n",
              "      <th>50%</th>\n",
              "      <td>55.000000</td>\n",
              "      <td>1.000000</td>\n",
              "      <td>1.000000</td>\n",
              "      <td>130.000000</td>\n",
              "      <td>240.000000</td>\n",
              "      <td>0.000000</td>\n",
              "      <td>1.000000</td>\n",
              "      <td>153.000000</td>\n",
              "      <td>0.000000</td>\n",
              "      <td>0.800000</td>\n",
              "      <td>1.000000</td>\n",
              "      <td>0.000000</td>\n",
              "      <td>2.000000</td>\n",
              "      <td>1.000000</td>\n",
              "    </tr>\n",
              "    <tr>\n",
              "      <th>75%</th>\n",
              "      <td>61.000000</td>\n",
              "      <td>1.000000</td>\n",
              "      <td>2.000000</td>\n",
              "      <td>140.000000</td>\n",
              "      <td>274.500000</td>\n",
              "      <td>0.000000</td>\n",
              "      <td>1.000000</td>\n",
              "      <td>166.000000</td>\n",
              "      <td>1.000000</td>\n",
              "      <td>1.600000</td>\n",
              "      <td>2.000000</td>\n",
              "      <td>1.000000</td>\n",
              "      <td>3.000000</td>\n",
              "      <td>1.000000</td>\n",
              "    </tr>\n",
              "    <tr>\n",
              "      <th>max</th>\n",
              "      <td>77.000000</td>\n",
              "      <td>1.000000</td>\n",
              "      <td>3.000000</td>\n",
              "      <td>200.000000</td>\n",
              "      <td>564.000000</td>\n",
              "      <td>1.000000</td>\n",
              "      <td>2.000000</td>\n",
              "      <td>202.000000</td>\n",
              "      <td>1.000000</td>\n",
              "      <td>6.200000</td>\n",
              "      <td>2.000000</td>\n",
              "      <td>4.000000</td>\n",
              "      <td>3.000000</td>\n",
              "      <td>1.000000</td>\n",
              "    </tr>\n",
              "  </tbody>\n",
              "</table>\n",
              "</div>\n",
              "      <button class=\"colab-df-convert\" onclick=\"convertToInteractive('df-964fd037-21d5-462d-a3d2-3482c7dd8058')\"\n",
              "              title=\"Convert this dataframe to an interactive table.\"\n",
              "              style=\"display:none;\">\n",
              "        \n",
              "  <svg xmlns=\"http://www.w3.org/2000/svg\" height=\"24px\"viewBox=\"0 0 24 24\"\n",
              "       width=\"24px\">\n",
              "    <path d=\"M0 0h24v24H0V0z\" fill=\"none\"/>\n",
              "    <path d=\"M18.56 5.44l.94 2.06.94-2.06 2.06-.94-2.06-.94-.94-2.06-.94 2.06-2.06.94zm-11 1L8.5 8.5l.94-2.06 2.06-.94-2.06-.94L8.5 2.5l-.94 2.06-2.06.94zm10 10l.94 2.06.94-2.06 2.06-.94-2.06-.94-.94-2.06-.94 2.06-2.06.94z\"/><path d=\"M17.41 7.96l-1.37-1.37c-.4-.4-.92-.59-1.43-.59-.52 0-1.04.2-1.43.59L10.3 9.45l-7.72 7.72c-.78.78-.78 2.05 0 2.83L4 21.41c.39.39.9.59 1.41.59.51 0 1.02-.2 1.41-.59l7.78-7.78 2.81-2.81c.8-.78.8-2.07 0-2.86zM5.41 20L4 18.59l7.72-7.72 1.47 1.35L5.41 20z\"/>\n",
              "  </svg>\n",
              "      </button>\n",
              "      \n",
              "  <style>\n",
              "    .colab-df-container {\n",
              "      display:flex;\n",
              "      flex-wrap:wrap;\n",
              "      gap: 12px;\n",
              "    }\n",
              "\n",
              "    .colab-df-convert {\n",
              "      background-color: #E8F0FE;\n",
              "      border: none;\n",
              "      border-radius: 50%;\n",
              "      cursor: pointer;\n",
              "      display: none;\n",
              "      fill: #1967D2;\n",
              "      height: 32px;\n",
              "      padding: 0 0 0 0;\n",
              "      width: 32px;\n",
              "    }\n",
              "\n",
              "    .colab-df-convert:hover {\n",
              "      background-color: #E2EBFA;\n",
              "      box-shadow: 0px 1px 2px rgba(60, 64, 67, 0.3), 0px 1px 3px 1px rgba(60, 64, 67, 0.15);\n",
              "      fill: #174EA6;\n",
              "    }\n",
              "\n",
              "    [theme=dark] .colab-df-convert {\n",
              "      background-color: #3B4455;\n",
              "      fill: #D2E3FC;\n",
              "    }\n",
              "\n",
              "    [theme=dark] .colab-df-convert:hover {\n",
              "      background-color: #434B5C;\n",
              "      box-shadow: 0px 1px 3px 1px rgba(0, 0, 0, 0.15);\n",
              "      filter: drop-shadow(0px 1px 2px rgba(0, 0, 0, 0.3));\n",
              "      fill: #FFFFFF;\n",
              "    }\n",
              "  </style>\n",
              "\n",
              "      <script>\n",
              "        const buttonEl =\n",
              "          document.querySelector('#df-964fd037-21d5-462d-a3d2-3482c7dd8058 button.colab-df-convert');\n",
              "        buttonEl.style.display =\n",
              "          google.colab.kernel.accessAllowed ? 'block' : 'none';\n",
              "\n",
              "        async function convertToInteractive(key) {\n",
              "          const element = document.querySelector('#df-964fd037-21d5-462d-a3d2-3482c7dd8058');\n",
              "          const dataTable =\n",
              "            await google.colab.kernel.invokeFunction('convertToInteractive',\n",
              "                                                     [key], {});\n",
              "          if (!dataTable) return;\n",
              "\n",
              "          const docLinkHtml = 'Like what you see? Visit the ' +\n",
              "            '<a target=\"_blank\" href=https://colab.research.google.com/notebooks/data_table.ipynb>data table notebook</a>'\n",
              "            + ' to learn more about interactive tables.';\n",
              "          element.innerHTML = '';\n",
              "          dataTable['output_type'] = 'display_data';\n",
              "          await google.colab.output.renderOutput(dataTable, element);\n",
              "          const docLink = document.createElement('div');\n",
              "          docLink.innerHTML = docLinkHtml;\n",
              "          element.appendChild(docLink);\n",
              "        }\n",
              "      </script>\n",
              "    </div>\n",
              "  </div>\n",
              "  "
            ]
          },
          "metadata": {},
          "execution_count": 9
        }
      ]
    },
    {
      "cell_type": "code",
      "source": [
        "print(hdata.corr()[\"target\"].abs().sort_values(ascending=True))"
      ],
      "metadata": {
        "colab": {
          "base_uri": "https://localhost:8080/"
        },
        "id": "njCwnG_hFbug",
        "outputId": "de928a6b-e307-474c-89eb-91209467b91d"
      },
      "execution_count": null,
      "outputs": [
        {
          "output_type": "stream",
          "name": "stdout",
          "text": [
            "fbs         0.028046\n",
            "chol        0.085239\n",
            "restecg     0.137230\n",
            "trestbps    0.144931\n",
            "age         0.225439\n",
            "sex         0.280937\n",
            "thal        0.344029\n",
            "slope       0.345877\n",
            "ca          0.391724\n",
            "thalach     0.421741\n",
            "oldpeak     0.430696\n",
            "cp          0.433798\n",
            "exang       0.436757\n",
            "target      1.000000\n",
            "Name: target, dtype: float64\n"
          ]
        }
      ]
    },
    {
      "cell_type": "markdown",
      "source": [
        "Here we can see fbs is less correlated with target. "
      ],
      "metadata": {
        "id": "_MQmkah0FzUz"
      }
    },
    {
      "cell_type": "code",
      "source": [
        "y = hdata['target']"
      ],
      "metadata": {
        "id": "mnpwmz9jJOAv"
      },
      "execution_count": null,
      "outputs": []
    },
    {
      "cell_type": "code",
      "source": [
        "ax = sns.countplot(x ='target', data = hdata)\n",
        "target_temp = hdata.target.value_counts()\n",
        "print(target_temp)\n",
        "plt.show()"
      ],
      "metadata": {
        "id": "hbRHaTp8hhp-",
        "colab": {
          "base_uri": "https://localhost:8080/",
          "height": 504
        },
        "outputId": "cf782f96-276e-45f3-b14d-44910ecc3af8"
      },
      "execution_count": null,
      "outputs": [
        {
          "output_type": "stream",
          "name": "stdout",
          "text": [
            "1    165\n",
            "0    138\n",
            "Name: target, dtype: int64\n"
          ]
        },
        {
          "output_type": "display_data",
          "data": {
            "text/plain": [
              "<Figure size 640x480 with 1 Axes>"
            ],
            "image/png": "[encoded data removed]"
          },
          "metadata": {}
        }
      ]
    },
    {
      "cell_type": "code",
      "source": [
        "print(\"Percentage of patients with heart disease: \" + str(round(target_temp[1]*100/303,3)))\n",
        "print(\"Percentage of patients without heart disease: \" + str(round(target_temp[0]*100/303,3)))"
      ],
      "metadata": {
        "colab": {
          "base_uri": "https://localhost:8080/"
        },
        "id": "SaCPdKJBKj7k",
        "outputId": "9e8f87c5-bc27-4e7e-abae-43cf628f15db"
      },
      "execution_count": null,
      "outputs": [
        {
          "output_type": "stream",
          "name": "stdout",
          "text": [
            "Percentage of patients with heart disease: 54.455\n",
            "Percentage of patients without heart disease: 45.545\n"
          ]
        }
      ]
    },
    {
      "cell_type": "markdown",
      "source": [
        "From the above we can see that 165 (54.455%)patients have a heart disease within 303 patients."
      ],
      "metadata": {
        "id": "ag03nnqgKLXF"
      }
    },
    {
      "cell_type": "code",
      "source": [
        "countFemale = len(hdata[hdata.sex == 0])\n",
        "countMale = len(hdata[hdata.sex == 1])\n",
        "print(\"Percentage of Female Patients are:{:.2f}%\".format((countFemale)/(len(hdata.sex))*100))\n",
        "print(\"Percentage of Female Patients are:{:.2f}%\".format((countMale)/(len(hdata.sex))*100))"
      ],
      "metadata": {
        "colab": {
          "base_uri": "https://localhost:8080/"
        },
        "id": "dOgeYIya0MsV",
        "outputId": "660aa2fc-e3b1-47fe-f5fc-602d792224d5"
      },
      "execution_count": null,
      "outputs": [
        {
          "output_type": "stream",
          "name": "stdout",
          "text": [
            "Percentage of Female Patients are:31.68%\n",
            "Percentage of Female Patients are:68.32%\n"
          ]
        }
      ]
    },
    {
      "cell_type": "markdown",
      "source": [
        "**Now We'll analyse 'sex', 'cp:chest pain', 'fbs:fasting blood sugar', 'restecg:Resting electrocardiographic measurement (0 = normal, 1 = having ST-T wave abnormality, 2 = showing probable or definite left ventricular hypertrophy by Estes' criteria)', 'exang:Exercise induced angina (1 = yes; 0 = no)', 'slope:the slope of the peak exercise ST segment (Value 1: upsloping, Value 2: flat, Value 3: downsloping)', 'ca:The number of major vessels (0-3)' and 'thal:A blood disorder called thalassemia (3 = normal; 6 = fixed defect; 7 = reversable defect)' features**"
      ],
      "metadata": {
        "id": "eSYxf1Pp3p4F"
      }
    },
    {
      "cell_type": "markdown",
      "source": [
        "# **Analysing the Sex Feature**"
      ],
      "metadata": {
        "id": "qBC63xx04zrZ"
      }
    },
    {
      "cell_type": "code",
      "source": [
        "hdata[\"sex\"].unique()\n"
      ],
      "metadata": {
        "colab": {
          "base_uri": "https://localhost:8080/"
        },
        "id": "TtKIGKb12Y5m",
        "outputId": "3961919d-2c7b-4b6e-91fc-e91e3597d50c"
      },
      "execution_count": null,
      "outputs": [
        {
          "output_type": "execute_result",
          "data": {
            "text/plain": [
              "array([1, 0])"
            ]
          },
          "metadata": {},
          "execution_count": 15
        }
      ]
    },
    {
      "cell_type": "code",
      "source": [
        "sns.barplot(x = 'sex',y = 'target',data = hdata)"
      ],
      "metadata": {
        "colab": {
          "base_uri": "https://localhost:8080/",
          "height": 467
        },
        "id": "3BSt5AOP1moJ",
        "outputId": "b053d097-56e4-4d0d-806e-eab94d4327a7"
      },
      "execution_count": null,
      "outputs": [
        {
          "output_type": "execute_result",
          "data": {
            "text/plain": [
              "<Axes: xlabel='sex', ylabel='target'>"
            ]
          },
          "metadata": {},
          "execution_count": 16
        },
        {
          "output_type": "display_data",
          "data": {
            "text/plain": [
              "<Figure size 640x480 with 1 Axes>"
            ],
            "image/png": "[encoded data removed]"
          },
          "metadata": {}
        }
      ]
    },
    {
      "cell_type": "markdown",
      "source": [
        "# **Analysing the Chest Pain Type features**"
      ],
      "metadata": {
        "id": "Ap3qdCXs8Uww"
      }
    },
    {
      "cell_type": "code",
      "source": [
        "hdata[\"cp\"].unique()"
      ],
      "metadata": {
        "colab": {
          "base_uri": "https://localhost:8080/"
        },
        "id": "e8eFCEP45dUL",
        "outputId": "8d41e4b4-f0d4-4f5b-aead-2f2c06c17c19"
      },
      "execution_count": null,
      "outputs": [
        {
          "output_type": "execute_result",
          "data": {
            "text/plain": [
              "array([3, 2, 1, 0])"
            ]
          },
          "metadata": {},
          "execution_count": 17
        }
      ]
    },
    {
      "cell_type": "code",
      "source": [
        "sns.barplot(x = 'cp',y = 'target',data = hdata)"
      ],
      "metadata": {
        "colab": {
          "base_uri": "https://localhost:8080/",
          "height": 467
        },
        "id": "poYfphiG8g-t",
        "outputId": "6f9e0223-2ba2-453e-93fc-b0edf94168e2"
      },
      "execution_count": null,
      "outputs": [
        {
          "output_type": "execute_result",
          "data": {
            "text/plain": [
              "<Axes: xlabel='cp', ylabel='target'>"
            ]
          },
          "metadata": {},
          "execution_count": 18
        },
        {
          "output_type": "display_data",
          "data": {
            "text/plain": [
              "<Figure size 640x480 with 1 Axes>"
            ],
            "image/png": "[encoded data removed]"
          },
          "metadata": {}
        }
      ]
    },
    {
      "cell_type": "markdown",
      "source": [
        "# **Analysing the FBS features**"
      ],
      "metadata": {
        "id": "w12IIN9m8sDU"
      }
    },
    {
      "cell_type": "code",
      "source": [
        "hdata[\"fbs\"].unique()"
      ],
      "metadata": {
        "colab": {
          "base_uri": "https://localhost:8080/"
        },
        "id": "6Tkp-mzn8n0M",
        "outputId": "9256ec00-5d8e-4425-ec2f-01d988149044"
      },
      "execution_count": null,
      "outputs": [
        {
          "output_type": "execute_result",
          "data": {
            "text/plain": [
              "array([1, 0])"
            ]
          },
          "metadata": {},
          "execution_count": 19
        }
      ]
    },
    {
      "cell_type": "code",
      "source": [
        "sns.barplot(x = 'fbs',y = 'target',data = hdata)"
      ],
      "metadata": {
        "colab": {
          "base_uri": "https://localhost:8080/",
          "height": 467
        },
        "id": "j3BE4V4f81yE",
        "outputId": "b2cb3d47-de7e-4bbc-f930-6fdb16daa49e"
      },
      "execution_count": null,
      "outputs": [
        {
          "output_type": "execute_result",
          "data": {
            "text/plain": [
              "<Axes: xlabel='fbs', ylabel='target'>"
            ]
          },
          "metadata": {},
          "execution_count": 20
        },
        {
          "output_type": "display_data",
          "data": {
            "text/plain": [
              "<Figure size 640x480 with 1 Axes>"
            ],
            "image/png": "[encoded data removed]"
          },
          "metadata": {}
        }
      ]
    },
    {
      "cell_type": "markdown",
      "source": [
        "# **Analysing the restecg feature**"
      ],
      "metadata": {
        "id": "yRnltfu89a1r"
      }
    },
    {
      "cell_type": "code",
      "source": [
        "hdata[\"restecg\"].unique()"
      ],
      "metadata": {
        "colab": {
          "base_uri": "https://localhost:8080/"
        },
        "id": "qe8wufBQ837T",
        "outputId": "8196decc-9016-4e84-8d53-c9e5a62fc944"
      },
      "execution_count": null,
      "outputs": [
        {
          "output_type": "execute_result",
          "data": {
            "text/plain": [
              "array([0, 1, 2])"
            ]
          },
          "metadata": {},
          "execution_count": 21
        }
      ]
    },
    {
      "cell_type": "code",
      "source": [
        "sns.barplot(x = 'restecg',y = 'target',data = hdata)"
      ],
      "metadata": {
        "colab": {
          "base_uri": "https://localhost:8080/",
          "height": 467
        },
        "id": "7Qb0nOGq9lsj",
        "outputId": "c6d6318b-47e3-4a05-dc87-bfea745f3c3f"
      },
      "execution_count": null,
      "outputs": [
        {
          "output_type": "execute_result",
          "data": {
            "text/plain": [
              "<Axes: xlabel='restecg', ylabel='target'>"
            ]
          },
          "metadata": {},
          "execution_count": 22
        },
        {
          "output_type": "display_data",
          "data": {
            "text/plain": [
              "<Figure size 640x480 with 1 Axes>"
            ],
            "image/png": "[encoded data removed]"
          },
          "metadata": {}
        }
      ]
    },
    {
      "cell_type": "markdown",
      "source": [
        "# **Analysing the exang feature**"
      ],
      "metadata": {
        "id": "ONnidGzq9skl"
      }
    },
    {
      "cell_type": "code",
      "source": [
        "hdata[\"exang\"].unique()"
      ],
      "metadata": {
        "colab": {
          "base_uri": "https://localhost:8080/"
        },
        "id": "KWAz-vuw9oaz",
        "outputId": "d3586b81-a783-45ee-a6ca-c0b1c20e3320"
      },
      "execution_count": null,
      "outputs": [
        {
          "output_type": "execute_result",
          "data": {
            "text/plain": [
              "array([0, 1])"
            ]
          },
          "metadata": {},
          "execution_count": 23
        }
      ]
    },
    {
      "cell_type": "code",
      "source": [
        "sns.barplot(x = 'exang',y = 'target',data = hdata)"
      ],
      "metadata": {
        "colab": {
          "base_uri": "https://localhost:8080/",
          "height": 467
        },
        "id": "kQsmu3kV91MX",
        "outputId": "345b37ee-7b13-42f1-dc36-0bb6d08d8e01"
      },
      "execution_count": null,
      "outputs": [
        {
          "output_type": "execute_result",
          "data": {
            "text/plain": [
              "<Axes: xlabel='exang', ylabel='target'>"
            ]
          },
          "metadata": {},
          "execution_count": 24
        },
        {
          "output_type": "display_data",
          "data": {
            "text/plain": [
              "<Figure size 640x480 with 1 Axes>"
            ],
            "image/png": "[encoded data removed]"
          },
          "metadata": {}
        }
      ]
    },
    {
      "cell_type": "markdown",
      "source": [
        "# **Analysing the slope feature**"
      ],
      "metadata": {
        "id": "50KfxiI8950c"
      }
    },
    {
      "cell_type": "code",
      "source": [
        "hdata[\"slope\"].unique()"
      ],
      "metadata": {
        "colab": {
          "base_uri": "https://localhost:8080/"
        },
        "id": "AqMsmRd2932C",
        "outputId": "dd1531ff-bd08-4f1f-a04e-4a2913952fa4"
      },
      "execution_count": null,
      "outputs": [
        {
          "output_type": "execute_result",
          "data": {
            "text/plain": [
              "array([0, 2, 1])"
            ]
          },
          "metadata": {},
          "execution_count": 25
        }
      ]
    },
    {
      "cell_type": "code",
      "source": [
        "sns.barplot(x = 'slope',y = 'target',data = hdata)"
      ],
      "metadata": {
        "colab": {
          "base_uri": "https://localhost:8080/",
          "height": 467
        },
        "id": "aGS_7sG2-DGH",
        "outputId": "6aedf410-4a88-43e4-f8f7-17b0a71d4a00"
      },
      "execution_count": null,
      "outputs": [
        {
          "output_type": "execute_result",
          "data": {
            "text/plain": [
              "<Axes: xlabel='slope', ylabel='target'>"
            ]
          },
          "metadata": {},
          "execution_count": 26
        },
        {
          "output_type": "display_data",
          "data": {
            "text/plain": [
              "<Figure size 640x480 with 1 Axes>"
            ],
            "image/png": "[encoded data removed]"
          },
          "metadata": {}
        }
      ]
    },
    {
      "cell_type": "markdown",
      "source": [
        "# **Analysing the ca feature**"
      ],
      "metadata": {
        "id": "RphGj6eW-WcM"
      }
    },
    {
      "cell_type": "code",
      "source": [
        "hdata[\"ca\"].unique()"
      ],
      "metadata": {
        "colab": {
          "base_uri": "https://localhost:8080/"
        },
        "id": "j7YfVbFF-JC6",
        "outputId": "cca0b714-fb9f-44a4-8a67-3d8de2c6c680"
      },
      "execution_count": null,
      "outputs": [
        {
          "output_type": "execute_result",
          "data": {
            "text/plain": [
              "array([0, 2, 1, 3, 4])"
            ]
          },
          "metadata": {},
          "execution_count": 27
        }
      ]
    },
    {
      "cell_type": "code",
      "source": [
        "sns.barplot(x = 'ca',y = 'target',data = hdata)"
      ],
      "metadata": {
        "colab": {
          "base_uri": "https://localhost:8080/",
          "height": 467
        },
        "id": "CxYzqkoS-c69",
        "outputId": "3c64e5e2-9296-498e-8a0d-9916ddcce424"
      },
      "execution_count": null,
      "outputs": [
        {
          "output_type": "execute_result",
          "data": {
            "text/plain": [
              "<Axes: xlabel='ca', ylabel='target'>"
            ]
          },
          "metadata": {},
          "execution_count": 28
        },
        {
          "output_type": "display_data",
          "data": {
            "text/plain": [
              "<Figure size 640x480 with 1 Axes>"
            ],
            "image/png": "[encoded data removed]"
          },
          "metadata": {}
        }
      ]
    },
    {
      "cell_type": "markdown",
      "source": [
        "# **Analysing The person's resting blood pressure**"
      ],
      "metadata": {
        "id": "00R_5cMXC0sG"
      }
    },
    {
      "cell_type": "code",
      "source": [
        "hdata[\"trestbps\"].unique()"
      ],
      "metadata": {
        "colab": {
          "base_uri": "https://localhost:8080/"
        },
        "id": "NMxArVQ2C32d",
        "outputId": "145a50e1-c676-4c50-eb2b-10e4f678fb7e"
      },
      "execution_count": null,
      "outputs": [
        {
          "output_type": "execute_result",
          "data": {
            "text/plain": [
              "array([145, 130, 120, 140, 172, 150, 110, 135, 160, 105, 125, 142, 155,\n",
              "       104, 138, 128, 108, 134, 122, 115, 118, 100, 124,  94, 112, 102,\n",
              "       152, 101, 132, 148, 178, 129, 180, 136, 126, 106, 156, 170, 146,\n",
              "       117, 200, 165, 174, 192, 144, 123, 154, 114, 164])"
            ]
          },
          "metadata": {},
          "execution_count": 29
        }
      ]
    },
    {
      "cell_type": "code",
      "source": [
        "plt.figure(figsize=(26, 10))\n",
        "sns.barplot(x = 'trestbps',y = 'target', data = hdata)"
      ],
      "metadata": {
        "colab": {
          "base_uri": "https://localhost:8080/",
          "height": 660
        },
        "id": "gDGh2N5CDIzn",
        "outputId": "eb5b4435-a6a0-47ab-82ba-1025cf9fd87f"
      },
      "execution_count": null,
      "outputs": [
        {
          "output_type": "execute_result",
          "data": {
            "text/plain": [
              "<Axes: xlabel='trestbps', ylabel='target'>"
            ]
          },
          "metadata": {},
          "execution_count": 30
        },
        {
          "output_type": "display_data",
          "data": {
            "text/plain": [
              "<Figure size 2600x1000 with 1 Axes>"
            ],
            "image/png": "[encoded data removed]"
          },
          "metadata": {}
        }
      ]
    },
    {
      "cell_type": "markdown",
      "source": [
        "# **Analysing the thal feature**"
      ],
      "metadata": {
        "id": "5z9IchBw-mE6"
      }
    },
    {
      "cell_type": "code",
      "source": [
        "hdata[\"thal\"].unique()"
      ],
      "metadata": {
        "colab": {
          "base_uri": "https://localhost:8080/"
        },
        "id": "borRpiee-ewZ",
        "outputId": "4295d1ba-ee61-4632-a17a-81511efc888f"
      },
      "execution_count": null,
      "outputs": [
        {
          "output_type": "execute_result",
          "data": {
            "text/plain": [
              "array([1, 2, 3, 0])"
            ]
          },
          "metadata": {},
          "execution_count": 31
        }
      ]
    },
    {
      "cell_type": "code",
      "source": [
        "sns.barplot(x = 'thal',y = 'target',data = hdata)"
      ],
      "metadata": {
        "colab": {
          "base_uri": "https://localhost:8080/",
          "height": 467
        },
        "id": "FoPjEzyd-tyH",
        "outputId": "fad238b9-3814-44f4-ca42-112c02a155d0"
      },
      "execution_count": null,
      "outputs": [
        {
          "output_type": "execute_result",
          "data": {
            "text/plain": [
              "<Axes: xlabel='thal', ylabel='target'>"
            ]
          },
          "metadata": {},
          "execution_count": 32
        },
        {
          "output_type": "display_data",
          "data": {
            "text/plain": [
              "<Figure size 640x480 with 1 Axes>"
            ],
            "image/png": "[encoded data removed]"
          },
          "metadata": {}
        }
      ]
    },
    {
      "cell_type": "markdown",
      "source": [
        "# **Heart Disease Frequency for ages**"
      ],
      "metadata": {
        "id": "9vyO0WB8_SGo"
      }
    },
    {
      "cell_type": "code",
      "source": [
        "pd.crosstab(hdata.age,hdata.target).plot(kind=\"bar\",figsize=(20,6))\n",
        "plt.title('Heart Disease Frequency for Ages')\n",
        "plt.xlabel('Age')\n",
        "plt.ylabel('Frequency')\n",
        "plt.savefig('heartDiseaseAndAges.png')\n",
        "plt.show()"
      ],
      "metadata": {
        "colab": {
          "base_uri": "https://localhost:8080/",
          "height": 550
        },
        "id": "98fkrDpB-xch",
        "outputId": "7a09846f-5a6c-4c19-e206-3d0124b869af"
      },
      "execution_count": null,
      "outputs": [
        {
          "output_type": "display_data",
          "data": {
            "text/plain": [
              "<Figure size 2000x600 with 1 Axes>"
            ],
            "image/png": "[encoded data removed]"
          },
          "metadata": {}
        }
      ]
    },
    {
      "cell_type": "markdown",
      "source": [
        "# **Heart Disease frequency for sex (where 0 is female and 1 is male and \"red\" is have heart disease and \"blue\" is don't have heart disease)**"
      ],
      "metadata": {
        "id": "kIny-zc-BTuq"
      }
    },
    {
      "cell_type": "code",
      "source": [
        "pd.crosstab(hdata.sex,hdata.target).plot(kind=\"bar\",figsize=(20,10),color=['blue','#AA1111' ])\n",
        "plt.title('Heart Disease Frequency for Sex')\n",
        "plt.xlabel('Sex (0 = Female, 1 = Male)')\n",
        "plt.xticks(rotation=0)\n",
        "plt.legend([\"Don't have Disease\", \"Have Disease\"])\n",
        "plt.ylabel('Frequency')\n",
        "plt.show()"
      ],
      "metadata": {
        "colab": {
          "base_uri": "https://localhost:8080/",
          "height": 840
        },
        "id": "V1MDS-iABMiN",
        "outputId": "ef8a71c1-dc61-485e-9f49-8747efdee7af"
      },
      "execution_count": null,
      "outputs": [
        {
          "output_type": "display_data",
          "data": {
            "text/plain": [
              "<Figure size 2000x1000 with 1 Axes>"
            ],
            "image/png": "[encoded data removed]"
          },
          "metadata": {}
        }
      ]
    },
    {
      "cell_type": "markdown",
      "source": [
        "# **Heart disease according to Fasting Blood sugar**"
      ],
      "metadata": {
        "id": "yxmilx2wCmzB"
      }
    },
    {
      "cell_type": "code",
      "source": [
        "pd.crosstab(hdata.fbs,hdata.target).plot(kind=\"bar\",figsize=(20,10),color=['#4286f4','#f49242'])\n",
        "plt.title(\"Heart disease according to FBS\")\n",
        "plt.xlabel('FBS- (Fasting Blood Sugar > 120 mg/dl) (1 = true; 0 = false)')\n",
        "plt.xticks(rotation=90)\n",
        "plt.legend([\"Don't Have Disease\", \"Have Disease\"])\n",
        "plt.ylabel('Disease or not')\n",
        "plt.show()"
      ],
      "metadata": {
        "colab": {
          "base_uri": "https://localhost:8080/",
          "height": 835
        },
        "id": "uJiyq1v4CrDb",
        "outputId": "a43aae26-0605-4124-d10c-393d324df556"
      },
      "execution_count": null,
      "outputs": [
        {
          "output_type": "display_data",
          "data": {
            "text/plain": [
              "<Figure size 2000x1000 with 1 Axes>"
            ],
            "image/png": "[encoded data removed]"
          },
          "metadata": {}
        }
      ]
    },
    {
      "cell_type": "markdown",
      "source": [
        "# **Train Test split**"
      ],
      "metadata": {
        "id": "S1SD0KGLM6pK"
      }
    },
    {
      "cell_type": "code",
      "source": [
        "from sklearn.model_selection import train_test_split\n",
        "\n",
        "predictors = hdata.drop(\"target\",axis=1)\n",
        "target = hdata[\"target\"]\n",
        "\n",
        "X_train,X_test,Y_train,Y_test = train_test_split(predictors,target,test_size=0.20,random_state=0)"
      ],
      "metadata": {
        "id": "HQnLbFyLCvWF"
      },
      "execution_count": null,
      "outputs": []
    },
    {
      "cell_type": "code",
      "source": [
        "X_train.shape"
      ],
      "metadata": {
        "colab": {
          "base_uri": "https://localhost:8080/"
        },
        "id": "VaP73NZvNcL6",
        "outputId": "3a8612ce-3791-41a6-e5c1-4570fff70257"
      },
      "execution_count": null,
      "outputs": [
        {
          "output_type": "execute_result",
          "data": {
            "text/plain": [
              "(242, 13)"
            ]
          },
          "metadata": {},
          "execution_count": 37
        }
      ]
    },
    {
      "cell_type": "code",
      "source": [
        "X_test.shape"
      ],
      "metadata": {
        "colab": {
          "base_uri": "https://localhost:8080/"
        },
        "id": "Gbqgy7pNNexW",
        "outputId": "c331fb0e-6541-45ae-d33a-b27c52183348"
      },
      "execution_count": null,
      "outputs": [
        {
          "output_type": "execute_result",
          "data": {
            "text/plain": [
              "(61, 13)"
            ]
          },
          "metadata": {},
          "execution_count": 38
        }
      ]
    },
    {
      "cell_type": "code",
      "source": [
        "Y_train.shape"
      ],
      "metadata": {
        "colab": {
          "base_uri": "https://localhost:8080/"
        },
        "id": "12CSyaLzNjSL",
        "outputId": "7d30e0f7-2201-4661-e8e1-e5fd160a0eca"
      },
      "execution_count": null,
      "outputs": [
        {
          "output_type": "execute_result",
          "data": {
            "text/plain": [
              "(242,)"
            ]
          },
          "metadata": {},
          "execution_count": 39
        }
      ]
    },
    {
      "cell_type": "code",
      "source": [
        "Y_test.shape"
      ],
      "metadata": {
        "colab": {
          "base_uri": "https://localhost:8080/"
        },
        "id": "AXBRozpwNm9G",
        "outputId": "025d2878-1b65-4296-a60e-97263e88037e"
      },
      "execution_count": null,
      "outputs": [
        {
          "output_type": "execute_result",
          "data": {
            "text/plain": [
              "(61,)"
            ]
          },
          "metadata": {},
          "execution_count": 40
        }
      ]
    },
    {
      "cell_type": "code",
      "source": [
        "from sklearn.metrics import accuracy_score"
      ],
      "metadata": {
        "id": "Rt1xXAXNNoqr"
      },
      "execution_count": null,
      "outputs": []
    },
    {
      "cell_type": "markdown",
      "source": [
        "# **Logistic Regression**"
      ],
      "metadata": {
        "id": "ZoTchXFLNv1y"
      }
    },
    {
      "cell_type": "code",
      "source": [
        "from sklearn.linear_model import LogisticRegression\n",
        "\n",
        "lr = LogisticRegression()\n",
        "lr.fit(X_train, Y_train)\n",
        "Y_pred_lr = lr.predict(X_test)\n",
        "score_lr = round(accuracy_score(Y_pred_lr, Y_test)*100,2)\n",
        "print(\"The accuracy score using Logistic Regression is: \"+str(score_lr)+\" %\")"
      ],
      "metadata": {
        "colab": {
          "base_uri": "https://localhost:8080/"
        },
        "id": "cOfKGABLNtWp",
        "outputId": "610cff97-ad78-4ae8-deaf-32b3bc334cc9"
      },
      "execution_count": null,
      "outputs": [
        {
          "output_type": "stream",
          "name": "stdout",
          "text": [
            "The accuracy score using Logistic Regression is: 85.25 %\n"
          ]
        }
      ]
    },
    {
      "cell_type": "markdown",
      "source": [
        "# **Naive Bayes**"
      ],
      "metadata": {
        "id": "XLDlIhk5Q0hT"
      }
    },
    {
      "cell_type": "code",
      "source": [
        "from sklearn.naive_bayes import GaussianNB\n",
        "\n",
        "nb = GaussianNB()\n",
        "nb.fit(X_train, Y_train)\n",
        "Y_pred_nb = nb.predict(X_test)\n",
        "score_nb = round(accuracy_score(Y_pred_nb, Y_test)*100,2)\n",
        "print(\"The accuracy score using Naive Bayes is: \"+str(score_nb)+\" %\")"
      ],
      "metadata": {
        "colab": {
          "base_uri": "https://localhost:8080/"
        },
        "id": "HQ824jILPtUN",
        "outputId": "309bbdfc-0d4b-400c-9b46-71fe10909c75"
      },
      "execution_count": null,
      "outputs": [
        {
          "output_type": "stream",
          "name": "stdout",
          "text": [
            "The accuracy score using Naive Bayes is: 85.25 %\n"
          ]
        }
      ]
    },
    {
      "cell_type": "markdown",
      "source": [
        "# **SVM**"
      ],
      "metadata": {
        "id": "6FxEt3vmRVhO"
      }
    },
    {
      "cell_type": "code",
      "source": [
        "from sklearn import svm\n",
        "\n",
        "sv = svm.SVC(kernel ='linear')\n",
        "sv.fit(X_train, Y_train)\n",
        "Y_pred_sv = sv.predict(X_test)\n",
        "score_sv = round(accuracy_score(Y_pred_sv, Y_test)*100,2)\n",
        "print(\"The accuracy score using Linear SVM is: \"+str(score_sv)+\" %\")"
      ],
      "metadata": {
        "colab": {
          "base_uri": "https://localhost:8080/"
        },
        "id": "jsIeW71wRUER",
        "outputId": "0ec651b8-b52e-4c52-e877-b07a65bfb642"
      },
      "execution_count": null,
      "outputs": [
        {
          "output_type": "stream",
          "name": "stdout",
          "text": [
            "The accuracy score using Linear SVM is: 81.97 %\n"
          ]
        }
      ]
    },
    {
      "cell_type": "markdown",
      "source": [
        "# **KNN**"
      ],
      "metadata": {
        "id": "OubW7p6GSeel"
      }
    },
    {
      "cell_type": "code",
      "source": [
        "from sklearn.neighbors import KNeighborsClassifier\n",
        "\n",
        "knn = KNeighborsClassifier(n_neighbors=7)\n",
        "knn.fit(X_train, Y_train)\n",
        "Y_pred_knn = knn.predict(X_test)\n",
        "score_knn = round(accuracy_score(Y_pred_knn, Y_test)*100,2)\n",
        "print(\"The accuracy score using KNN is: \"+str(score_knn)+\" %\")"
      ],
      "metadata": {
        "colab": {
          "base_uri": "https://localhost:8080/"
        },
        "id": "3gEZldUWRw3W",
        "outputId": "fa6b08a8-1a73-4ae9-a0a4-db714799b18e"
      },
      "execution_count": null,
      "outputs": [
        {
          "output_type": "stream",
          "name": "stdout",
          "text": [
            "The accuracy score using KNN is: 67.21 %\n"
          ]
        }
      ]
    },
    {
      "cell_type": "markdown",
      "source": [
        "# **Decision Tree**"
      ],
      "metadata": {
        "id": "uINfOA-uTvFb"
      }
    },
    {
      "cell_type": "code",
      "source": [
        "from sklearn.tree import DecisionTreeClassifier\n",
        "\n",
        "max_accuracy = 0\n",
        "\n",
        "\n",
        "for x in range(2000):\n",
        "    dt = DecisionTreeClassifier(random_state=x)\n",
        "    dt.fit(X_train,Y_train)\n",
        "    Y_pred_dt = dt.predict(X_test)\n",
        "    current_accuracy = round(accuracy_score(Y_pred_dt,Y_test)*100,2)\n",
        "    if(current_accuracy>max_accuracy):\n",
        "        max_accuracy = current_accuracy\n",
        "        best_x = x\n",
        "        \n",
        "dt = DecisionTreeClassifier(random_state=best_x)\n",
        "dt.fit(X_train,Y_train)\n",
        "Y_pred_dt = dt.predict(X_test)\n",
        "\n",
        "score_dt = round(accuracy_score(Y_pred_dt,Y_test)*100,2)\n",
        "\n",
        "print(\"The accuracy score using Decision Tree is: \"+str(score_dt)+\" %\")"
      ],
      "metadata": {
        "colab": {
          "base_uri": "https://localhost:8080/"
        },
        "id": "6X0BS39aTFmV",
        "outputId": "c1bb574d-a559-4fe2-ad04-870697e800af"
      },
      "execution_count": null,
      "outputs": [
        {
          "output_type": "stream",
          "name": "stdout",
          "text": [
            "The accuracy score using Decision Tree is: 81.97 %\n"
          ]
        }
      ]
    },
    {
      "cell_type": "markdown",
      "source": [
        "# **Random Forest**"
      ],
      "metadata": {
        "id": "_cPpD2g6V9tV"
      }
    },
    {
      "cell_type": "code",
      "source": [
        "from sklearn.ensemble import RandomForestClassifier\n",
        "\n",
        "max_accuracy = 0\n",
        "\n",
        "\n",
        "for x in range(3000):\n",
        "    rf = RandomForestClassifier(random_state=x)\n",
        "    rf.fit(X_train,Y_train)\n",
        "    Y_pred_rf = rf.predict(X_test)\n",
        "    current_accuracy = round(accuracy_score(Y_pred_rf,Y_test)*100,2)\n",
        "    if(current_accuracy>max_accuracy):\n",
        "        max_accuracy = current_accuracy\n",
        "        best_x = x\n",
        "        \n",
        "#print(max_accuracy)\n",
        "#print(best_x)\n",
        "\n",
        "rf = RandomForestClassifier(random_state=best_x)\n",
        "rf.fit(X_train,Y_train)\n",
        "Y_pred_rf = rf.predict(X_test)\n",
        "\n",
        "score_rf = round(accuracy_score(Y_pred_rf,Y_test)*100,2)\n",
        "\n",
        "print(\"The accuracy score using Random Forest is: \"+str(score_rf)+\" %\")"
      ],
      "metadata": {
        "colab": {
          "base_uri": "https://localhost:8080/"
        },
        "id": "nF3S5p81V9B1",
        "outputId": "14b93762-6cf4-41a4-f08e-ba3ae937461d"
      },
      "execution_count": null,
      "outputs": [
        {
          "output_type": "stream",
          "name": "stdout",
          "text": [
            "The accuracy score using Random Forest is: 90.16 %\n"
          ]
        }
      ]
    },
    {
      "cell_type": "markdown",
      "source": [
        "# **XGBoost**"
      ],
      "metadata": {
        "id": "h4fGHuorcSsJ"
      }
    },
    {
      "cell_type": "code",
      "source": [
        "import xgboost as xgb\n",
        "\n",
        "xgb_model = xgb.XGBClassifier(objective=\"binary:logistic\", random_state=42)\n",
        "xgb_model.fit(X_train, Y_train)\n",
        "\n",
        "Y_pred_xgb = xgb_model.predict(X_test)\n",
        "score_xgb = round(accuracy_score(Y_pred_xgb,Y_test)*100,2)\n",
        "\n",
        "print(\"The accuracy score achieved using XGBoost is: \"+str(score_xgb)+\" %\")"
      ],
      "metadata": {
        "colab": {
          "base_uri": "https://localhost:8080/"
        },
        "id": "hNTRPiJ-cR-D",
        "outputId": "3507c103-a992-4d7e-f236-ca27bdcdc112"
      },
      "execution_count": null,
      "outputs": [
        {
          "output_type": "stream",
          "name": "stdout",
          "text": [
            "The accuracy score achieved using XGBoost is: 78.69 %\n"
          ]
        }
      ]
    },
    {
      "cell_type": "markdown",
      "source": [
        "# **Neural Network**"
      ],
      "metadata": {
        "id": "vetCXD5Gc2fA"
      }
    },
    {
      "cell_type": "code",
      "source": [
        "from keras.models import Sequential\n",
        "from keras.layers import Dense"
      ],
      "metadata": {
        "id": "UFHVgC_Dc6Tf"
      },
      "execution_count": null,
      "outputs": []
    },
    {
      "cell_type": "code",
      "source": [
        "model = Sequential()\n",
        "model.add(Dense(11,activation='relu',input_dim=13))\n",
        "model.add(Dense(1,activation='sigmoid'))\n",
        "\n",
        "model.compile(loss='binary_crossentropy',optimizer='adam',metrics=['accuracy'])"
      ],
      "metadata": {
        "id": "SS72-frVc-1g"
      },
      "execution_count": null,
      "outputs": []
    },
    {
      "cell_type": "code",
      "source": [
        "model.fit(X_train,Y_train,epochs=500)"
      ],
      "metadata": {
        "colab": {
          "base_uri": "https://localhost:8080/"
        },
        "id": "_xAKEiNfdEuq",
        "outputId": "46654e4f-46bd-4040-d222-8cffec89fd1a"
      },
      "execution_count": null,
      "outputs": [
        {
          "output_type": "stream",
          "name": "stdout",
          "text": [
            "Epoch 1/500\n",
            "8/8 [==============================] - 1s 4ms/step - loss: 2.3224 - accuracy: 0.5579\n",
            "Epoch 2/500\n",
            "8/8 [==============================] - 0s 5ms/step - loss: 2.0919 - accuracy: 0.5455\n",
            "Epoch 3/500\n",
            "8/8 [==============================] - 0s 5ms/step - loss: 1.7000 - accuracy: 0.5826\n",
            "Epoch 4/500\n",
            "8/8 [==============================] - 0s 4ms/step - loss: 1.5701 - accuracy: 0.5826\n",
            "Epoch 5/500\n",
            "8/8 [==============================] - 0s 3ms/step - loss: 1.4513 - accuracy: 0.5702\n",
            "Epoch 6/500\n",
            "8/8 [==============================] - 0s 5ms/step - loss: 1.3674 - accuracy: 0.5620\n",
            "Epoch 7/500\n",
            "8/8 [==============================] - 0s 5ms/step - loss: 1.3327 - accuracy: 0.5744\n",
            "Epoch 8/500\n",
            "8/8 [==============================] - 0s 4ms/step - loss: 1.2469 - accuracy: 0.5744\n",
            "Epoch 9/500\n",
            "8/8 [==============================] - 0s 4ms/step - loss: 1.1945 - accuracy: 0.5785\n",
            "Epoch 10/500\n",
            "8/8 [==============================] - 0s 5ms/step - loss: 1.1351 - accuracy: 0.6074\n",
            "Epoch 11/500\n",
            "8/8 [==============================] - 0s 4ms/step - loss: 1.0775 - accuracy: 0.6074\n",
            "Epoch 12/500\n",
            "8/8 [==============================] - 0s 4ms/step - loss: 1.0380 - accuracy: 0.6157\n",
            "Epoch 13/500\n",
            "8/8 [==============================] - 0s 4ms/step - loss: 1.0032 - accuracy: 0.6074\n",
            "Epoch 14/500\n",
            "8/8 [==============================] - 0s 4ms/step - loss: 0.9692 - accuracy: 0.6157\n",
            "Epoch 15/500\n",
            "8/8 [==============================] - 0s 3ms/step - loss: 0.9404 - accuracy: 0.6364\n",
            "Epoch 16/500\n",
            "8/8 [==============================] - 0s 3ms/step - loss: 0.9151 - accuracy: 0.6322\n",
            "Epoch 17/500\n",
            "8/8 [==============================] - 0s 3ms/step - loss: 0.8878 - accuracy: 0.6488\n",
            "Epoch 18/500\n",
            "8/8 [==============================] - 0s 4ms/step - loss: 0.9111 - accuracy: 0.6074\n",
            "Epoch 19/500\n",
            "8/8 [==============================] - 0s 4ms/step - loss: 0.8895 - accuracy: 0.6612\n",
            "Epoch 20/500\n",
            "8/8 [==============================] - 0s 4ms/step - loss: 0.8283 - accuracy: 0.6322\n",
            "Epoch 21/500\n",
            "8/8 [==============================] - 0s 4ms/step - loss: 0.8148 - accuracy: 0.6405\n",
            "Epoch 22/500\n",
            "8/8 [==============================] - 0s 4ms/step - loss: 0.7993 - accuracy: 0.6488\n",
            "Epoch 23/500\n",
            "8/8 [==============================] - 0s 4ms/step - loss: 0.7710 - accuracy: 0.6612\n",
            "Epoch 24/500\n",
            "8/8 [==============================] - 0s 3ms/step - loss: 0.7758 - accuracy: 0.6694\n",
            "Epoch 25/500\n",
            "8/8 [==============================] - 0s 4ms/step - loss: 0.7532 - accuracy: 0.6901\n",
            "Epoch 26/500\n",
            "8/8 [==============================] - 0s 4ms/step - loss: 0.7286 - accuracy: 0.6694\n",
            "Epoch 27/500\n",
            "8/8 [==============================] - 0s 4ms/step - loss: 0.7123 - accuracy: 0.6942\n",
            "Epoch 28/500\n",
            "8/8 [==============================] - 0s 4ms/step - loss: 0.6927 - accuracy: 0.6942\n",
            "Epoch 29/500\n",
            "8/8 [==============================] - 0s 3ms/step - loss: 0.6770 - accuracy: 0.6901\n",
            "Epoch 30/500\n",
            "8/8 [==============================] - 0s 3ms/step - loss: 0.6674 - accuracy: 0.6777\n",
            "Epoch 31/500\n",
            "8/8 [==============================] - 0s 4ms/step - loss: 0.6784 - accuracy: 0.7190\n",
            "Epoch 32/500\n",
            "8/8 [==============================] - 0s 4ms/step - loss: 0.7293 - accuracy: 0.6694\n",
            "Epoch 33/500\n",
            "8/8 [==============================] - 0s 4ms/step - loss: 0.6627 - accuracy: 0.6777\n",
            "Epoch 34/500\n",
            "8/8 [==============================] - 0s 4ms/step - loss: 0.6604 - accuracy: 0.6736\n",
            "Epoch 35/500\n",
            "8/8 [==============================] - 0s 4ms/step - loss: 0.6606 - accuracy: 0.6612\n",
            "Epoch 36/500\n",
            "8/8 [==============================] - 0s 4ms/step - loss: 0.6232 - accuracy: 0.7190\n",
            "Epoch 37/500\n",
            "8/8 [==============================] - 0s 3ms/step - loss: 0.5986 - accuracy: 0.7231\n",
            "Epoch 38/500\n",
            "8/8 [==============================] - 0s 4ms/step - loss: 0.5773 - accuracy: 0.7479\n",
            "Epoch 39/500\n",
            "8/8 [==============================] - 0s 4ms/step - loss: 0.5880 - accuracy: 0.7149\n",
            "Epoch 40/500\n",
            "8/8 [==============================] - 0s 5ms/step - loss: 0.6169 - accuracy: 0.7190\n",
            "Epoch 41/500\n",
            "8/8 [==============================] - 0s 4ms/step - loss: 0.5503 - accuracy: 0.7562\n",
            "Epoch 42/500\n",
            "8/8 [==============================] - 0s 3ms/step - loss: 0.5530 - accuracy: 0.7438\n",
            "Epoch 43/500\n",
            "8/8 [==============================] - 0s 4ms/step - loss: 0.5581 - accuracy: 0.7479\n",
            "Epoch 44/500\n",
            "8/8 [==============================] - 0s 3ms/step - loss: 0.5335 - accuracy: 0.7438\n",
            "Epoch 45/500\n",
            "8/8 [==============================] - 0s 3ms/step - loss: 0.5419 - accuracy: 0.7479\n",
            "Epoch 46/500\n",
            "8/8 [==============================] - 0s 3ms/step - loss: 0.5230 - accuracy: 0.7645\n",
            "Epoch 47/500\n",
            "8/8 [==============================] - 0s 4ms/step - loss: 0.5147 - accuracy: 0.7355\n",
            "Epoch 48/500\n",
            "8/8 [==============================] - 0s 3ms/step - loss: 0.5096 - accuracy: 0.7686\n",
            "Epoch 49/500\n",
            "8/8 [==============================] - 0s 5ms/step - loss: 0.4992 - accuracy: 0.7686\n",
            "Epoch 50/500\n",
            "8/8 [==============================] - 0s 4ms/step - loss: 0.5028 - accuracy: 0.7727\n",
            "Epoch 51/500\n",
            "8/8 [==============================] - 0s 4ms/step - loss: 0.4989 - accuracy: 0.7603\n",
            "Epoch 52/500\n",
            "8/8 [==============================] - 0s 4ms/step - loss: 0.4888 - accuracy: 0.7934\n",
            "Epoch 53/500\n",
            "8/8 [==============================] - 0s 4ms/step - loss: 0.4782 - accuracy: 0.7851\n",
            "Epoch 54/500\n",
            "8/8 [==============================] - 0s 4ms/step - loss: 0.4762 - accuracy: 0.7810\n",
            "Epoch 55/500\n",
            "8/8 [==============================] - 0s 3ms/step - loss: 0.4680 - accuracy: 0.7893\n",
            "Epoch 56/500\n",
            "8/8 [==============================] - 0s 3ms/step - loss: 0.4652 - accuracy: 0.7810\n",
            "Epoch 57/500\n",
            "8/8 [==============================] - 0s 4ms/step - loss: 0.4729 - accuracy: 0.7769\n",
            "Epoch 58/500\n",
            "8/8 [==============================] - 0s 5ms/step - loss: 0.4650 - accuracy: 0.7934\n",
            "Epoch 59/500\n",
            "8/8 [==============================] - 0s 4ms/step - loss: 0.4629 - accuracy: 0.7893\n",
            "Epoch 60/500\n",
            "8/8 [==============================] - 0s 3ms/step - loss: 0.4717 - accuracy: 0.7562\n",
            "Epoch 61/500\n",
            "8/8 [==============================] - 0s 4ms/step - loss: 0.4456 - accuracy: 0.7893\n",
            "Epoch 62/500\n",
            "8/8 [==============================] - 0s 4ms/step - loss: 0.4435 - accuracy: 0.8058\n",
            "Epoch 63/500\n",
            "8/8 [==============================] - 0s 4ms/step - loss: 0.4471 - accuracy: 0.7934\n",
            "Epoch 64/500\n",
            "8/8 [==============================] - 0s 4ms/step - loss: 0.4437 - accuracy: 0.8017\n",
            "Epoch 65/500\n",
            "8/8 [==============================] - 0s 4ms/step - loss: 0.4369 - accuracy: 0.7975\n",
            "Epoch 66/500\n",
            "8/8 [==============================] - 0s 4ms/step - loss: 0.4461 - accuracy: 0.7934\n",
            "Epoch 67/500\n",
            "8/8 [==============================] - 0s 4ms/step - loss: 0.4652 - accuracy: 0.7562\n",
            "Epoch 68/500\n",
            "8/8 [==============================] - 0s 4ms/step - loss: 0.4589 - accuracy: 0.7810\n",
            "Epoch 69/500\n",
            "8/8 [==============================] - 0s 4ms/step - loss: 0.4276 - accuracy: 0.8017\n",
            "Epoch 70/500\n",
            "8/8 [==============================] - 0s 4ms/step - loss: 0.4314 - accuracy: 0.7810\n",
            "Epoch 71/500\n",
            "8/8 [==============================] - 0s 3ms/step - loss: 0.4429 - accuracy: 0.7769\n",
            "Epoch 72/500\n",
            "8/8 [==============================] - 0s 3ms/step - loss: 0.4181 - accuracy: 0.8017\n",
            "Epoch 73/500\n",
            "8/8 [==============================] - 0s 3ms/step - loss: 0.4442 - accuracy: 0.7769\n",
            "Epoch 74/500\n",
            "8/8 [==============================] - 0s 4ms/step - loss: 0.4521 - accuracy: 0.7893\n",
            "Epoch 75/500\n",
            "8/8 [==============================] - 0s 4ms/step - loss: 0.4315 - accuracy: 0.7975\n",
            "Epoch 76/500\n",
            "8/8 [==============================] - 0s 3ms/step - loss: 0.4256 - accuracy: 0.7810\n",
            "Epoch 77/500\n",
            "8/8 [==============================] - 0s 4ms/step - loss: 0.4194 - accuracy: 0.8058\n",
            "Epoch 78/500\n",
            "8/8 [==============================] - 0s 4ms/step - loss: 0.4151 - accuracy: 0.8140\n",
            "Epoch 79/500\n",
            "8/8 [==============================] - 0s 4ms/step - loss: 0.4209 - accuracy: 0.7975\n",
            "Epoch 80/500\n",
            "8/8 [==============================] - 0s 3ms/step - loss: 0.4249 - accuracy: 0.7893\n",
            "Epoch 81/500\n",
            "8/8 [==============================] - 0s 3ms/step - loss: 0.4219 - accuracy: 0.8058\n",
            "Epoch 82/500\n",
            "8/8 [==============================] - 0s 4ms/step - loss: 0.4108 - accuracy: 0.8264\n",
            "Epoch 83/500\n",
            "8/8 [==============================] - 0s 3ms/step - loss: 0.4047 - accuracy: 0.8223\n",
            "Epoch 84/500\n",
            "8/8 [==============================] - 0s 3ms/step - loss: 0.4118 - accuracy: 0.8182\n",
            "Epoch 85/500\n",
            "8/8 [==============================] - 0s 4ms/step - loss: 0.4094 - accuracy: 0.8223\n",
            "Epoch 86/500\n",
            "8/8 [==============================] - 0s 4ms/step - loss: 0.4171 - accuracy: 0.8017\n",
            "Epoch 87/500\n",
            "8/8 [==============================] - 0s 4ms/step - loss: 0.4183 - accuracy: 0.7934\n",
            "Epoch 88/500\n",
            "8/8 [==============================] - 0s 4ms/step - loss: 0.4110 - accuracy: 0.8140\n",
            "Epoch 89/500\n",
            "8/8 [==============================] - 0s 4ms/step - loss: 0.4020 - accuracy: 0.8306\n",
            "Epoch 90/500\n",
            "8/8 [==============================] - 0s 4ms/step - loss: 0.3963 - accuracy: 0.8347\n",
            "Epoch 91/500\n",
            "8/8 [==============================] - 0s 4ms/step - loss: 0.4243 - accuracy: 0.8058\n",
            "Epoch 92/500\n",
            "8/8 [==============================] - 0s 4ms/step - loss: 0.4220 - accuracy: 0.8058\n",
            "Epoch 93/500\n",
            "8/8 [==============================] - 0s 4ms/step - loss: 0.4089 - accuracy: 0.8058\n",
            "Epoch 94/500\n",
            "8/8 [==============================] - 0s 5ms/step - loss: 0.4291 - accuracy: 0.7975\n",
            "Epoch 95/500\n",
            "8/8 [==============================] - 0s 4ms/step - loss: 0.4038 - accuracy: 0.8182\n",
            "Epoch 96/500\n",
            "8/8 [==============================] - 0s 4ms/step - loss: 0.4220 - accuracy: 0.7810\n",
            "Epoch 97/500\n",
            "8/8 [==============================] - 0s 4ms/step - loss: 0.4233 - accuracy: 0.8058\n",
            "Epoch 98/500\n",
            "8/8 [==============================] - 0s 4ms/step - loss: 0.4282 - accuracy: 0.7769\n",
            "Epoch 99/500\n",
            "8/8 [==============================] - 0s 4ms/step - loss: 0.4531 - accuracy: 0.7975\n",
            "Epoch 100/500\n",
            "8/8 [==============================] - 0s 4ms/step - loss: 0.3942 - accuracy: 0.8182\n",
            "Epoch 101/500\n",
            "8/8 [==============================] - 0s 4ms/step - loss: 0.4088 - accuracy: 0.8140\n",
            "Epoch 102/500\n",
            "8/8 [==============================] - 0s 4ms/step - loss: 0.3938 - accuracy: 0.8182\n",
            "Epoch 103/500\n",
            "8/8 [==============================] - 0s 4ms/step - loss: 0.3870 - accuracy: 0.8306\n",
            "Epoch 104/500\n",
            "8/8 [==============================] - 0s 3ms/step - loss: 0.4033 - accuracy: 0.8058\n",
            "Epoch 105/500\n",
            "8/8 [==============================] - 0s 4ms/step - loss: 0.3982 - accuracy: 0.8306\n",
            "Epoch 106/500\n",
            "8/8 [==============================] - 0s 4ms/step - loss: 0.3826 - accuracy: 0.8347\n",
            "Epoch 107/500\n",
            "8/8 [==============================] - 0s 3ms/step - loss: 0.3831 - accuracy: 0.8430\n",
            "Epoch 108/500\n",
            "8/8 [==============================] - 0s 4ms/step - loss: 0.3813 - accuracy: 0.8347\n",
            "Epoch 109/500\n",
            "8/8 [==============================] - 0s 3ms/step - loss: 0.3827 - accuracy: 0.8388\n",
            "Epoch 110/500\n",
            "8/8 [==============================] - 0s 3ms/step - loss: 0.3846 - accuracy: 0.8347\n",
            "Epoch 111/500\n",
            "8/8 [==============================] - 0s 4ms/step - loss: 0.4014 - accuracy: 0.8264\n",
            "Epoch 112/500\n",
            "8/8 [==============================] - 0s 3ms/step - loss: 0.4178 - accuracy: 0.7975\n",
            "Epoch 113/500\n",
            "8/8 [==============================] - 0s 3ms/step - loss: 0.3893 - accuracy: 0.8264\n",
            "Epoch 114/500\n",
            "8/8 [==============================] - 0s 4ms/step - loss: 0.3810 - accuracy: 0.8264\n",
            "Epoch 115/500\n",
            "8/8 [==============================] - 0s 4ms/step - loss: 0.3925 - accuracy: 0.8471\n",
            "Epoch 116/500\n",
            "8/8 [==============================] - 0s 4ms/step - loss: 0.3928 - accuracy: 0.8388\n",
            "Epoch 117/500\n",
            "8/8 [==============================] - 0s 4ms/step - loss: 0.3859 - accuracy: 0.8140\n",
            "Epoch 118/500\n",
            "8/8 [==============================] - 0s 4ms/step - loss: 0.3928 - accuracy: 0.8223\n",
            "Epoch 119/500\n",
            "8/8 [==============================] - 0s 3ms/step - loss: 0.3723 - accuracy: 0.8306\n",
            "Epoch 120/500\n",
            "8/8 [==============================] - 0s 3ms/step - loss: 0.3821 - accuracy: 0.8430\n",
            "Epoch 121/500\n",
            "8/8 [==============================] - 0s 3ms/step - loss: 0.3874 - accuracy: 0.8264\n",
            "Epoch 122/500\n",
            "8/8 [==============================] - 0s 3ms/step - loss: 0.3742 - accuracy: 0.8471\n",
            "Epoch 123/500\n",
            "8/8 [==============================] - 0s 3ms/step - loss: 0.3941 - accuracy: 0.8471\n",
            "Epoch 124/500\n",
            "8/8 [==============================] - 0s 4ms/step - loss: 0.3789 - accuracy: 0.8223\n",
            "Epoch 125/500\n",
            "8/8 [==============================] - 0s 5ms/step - loss: 0.3768 - accuracy: 0.8099\n",
            "Epoch 126/500\n",
            "8/8 [==============================] - 0s 4ms/step - loss: 0.3774 - accuracy: 0.8306\n",
            "Epoch 127/500\n",
            "8/8 [==============================] - 0s 4ms/step - loss: 0.3850 - accuracy: 0.8347\n",
            "Epoch 128/500\n",
            "8/8 [==============================] - 0s 4ms/step - loss: 0.3751 - accuracy: 0.8471\n",
            "Epoch 129/500\n",
            "8/8 [==============================] - 0s 4ms/step - loss: 0.3702 - accuracy: 0.8430\n",
            "Epoch 130/500\n",
            "8/8 [==============================] - 0s 3ms/step - loss: 0.3820 - accuracy: 0.8512\n",
            "Epoch 131/500\n",
            "8/8 [==============================] - 0s 4ms/step - loss: 0.4090 - accuracy: 0.7851\n",
            "Epoch 132/500\n",
            "8/8 [==============================] - 0s 4ms/step - loss: 0.3760 - accuracy: 0.8512\n",
            "Epoch 133/500\n",
            "8/8 [==============================] - 0s 4ms/step - loss: 0.3841 - accuracy: 0.8306\n",
            "Epoch 134/500\n",
            "8/8 [==============================] - 0s 4ms/step - loss: 0.3875 - accuracy: 0.8264\n",
            "Epoch 135/500\n",
            "8/8 [==============================] - 0s 4ms/step - loss: 0.3748 - accuracy: 0.8430\n",
            "Epoch 136/500\n",
            "8/8 [==============================] - 0s 4ms/step - loss: 0.3693 - accuracy: 0.8388\n",
            "Epoch 137/500\n",
            "8/8 [==============================] - 0s 4ms/step - loss: 0.3692 - accuracy: 0.8388\n",
            "Epoch 138/500\n",
            "8/8 [==============================] - 0s 4ms/step - loss: 0.3796 - accuracy: 0.8430\n",
            "Epoch 139/500\n",
            "8/8 [==============================] - 0s 4ms/step - loss: 0.3774 - accuracy: 0.8306\n",
            "Epoch 140/500\n",
            "8/8 [==============================] - 0s 4ms/step - loss: 0.4188 - accuracy: 0.8099\n",
            "Epoch 141/500\n",
            "8/8 [==============================] - 0s 4ms/step - loss: 0.3734 - accuracy: 0.8388\n",
            "Epoch 142/500\n",
            "8/8 [==============================] - 0s 4ms/step - loss: 0.3681 - accuracy: 0.8264\n",
            "Epoch 143/500\n",
            "8/8 [==============================] - 0s 4ms/step - loss: 0.3634 - accuracy: 0.8554\n",
            "Epoch 144/500\n",
            "8/8 [==============================] - 0s 12ms/step - loss: 0.3655 - accuracy: 0.8347\n",
            "Epoch 145/500\n",
            "8/8 [==============================] - 0s 17ms/step - loss: 0.3758 - accuracy: 0.8430\n",
            "Epoch 146/500\n",
            "8/8 [==============================] - 0s 16ms/step - loss: 0.3854 - accuracy: 0.8347\n",
            "Epoch 147/500\n",
            "8/8 [==============================] - 0s 10ms/step - loss: 0.3740 - accuracy: 0.8306\n",
            "Epoch 148/500\n",
            "8/8 [==============================] - 0s 13ms/step - loss: 0.3651 - accuracy: 0.8595\n",
            "Epoch 149/500\n",
            "8/8 [==============================] - 0s 14ms/step - loss: 0.3670 - accuracy: 0.8471\n",
            "Epoch 150/500\n",
            "8/8 [==============================] - 0s 16ms/step - loss: 0.3672 - accuracy: 0.8347\n",
            "Epoch 151/500\n",
            "8/8 [==============================] - 0s 11ms/step - loss: 0.3715 - accuracy: 0.8388\n",
            "Epoch 152/500\n",
            "8/8 [==============================] - 0s 11ms/step - loss: 0.3755 - accuracy: 0.8306\n",
            "Epoch 153/500\n",
            "8/8 [==============================] - 0s 7ms/step - loss: 0.3704 - accuracy: 0.8430\n",
            "Epoch 154/500\n",
            "8/8 [==============================] - 0s 6ms/step - loss: 0.3637 - accuracy: 0.8430\n",
            "Epoch 155/500\n",
            "8/8 [==============================] - 0s 5ms/step - loss: 0.3599 - accuracy: 0.8471\n",
            "Epoch 156/500\n",
            "8/8 [==============================] - 0s 5ms/step - loss: 0.3590 - accuracy: 0.8595\n",
            "Epoch 157/500\n",
            "8/8 [==============================] - 0s 5ms/step - loss: 0.3600 - accuracy: 0.8388\n",
            "Epoch 158/500\n",
            "8/8 [==============================] - 0s 6ms/step - loss: 0.3658 - accuracy: 0.8388\n",
            "Epoch 159/500\n",
            "8/8 [==============================] - 0s 4ms/step - loss: 0.3688 - accuracy: 0.8471\n",
            "Epoch 160/500\n",
            "8/8 [==============================] - 0s 3ms/step - loss: 0.3595 - accuracy: 0.8388\n",
            "Epoch 161/500\n",
            "8/8 [==============================] - 0s 3ms/step - loss: 0.3644 - accuracy: 0.8471\n",
            "Epoch 162/500\n",
            "8/8 [==============================] - 0s 3ms/step - loss: 0.3719 - accuracy: 0.8430\n",
            "Epoch 163/500\n",
            "8/8 [==============================] - 0s 3ms/step - loss: 0.3748 - accuracy: 0.8347\n",
            "Epoch 164/500\n",
            "8/8 [==============================] - 0s 3ms/step - loss: 0.3642 - accuracy: 0.8430\n",
            "Epoch 165/500\n",
            "8/8 [==============================] - 0s 3ms/step - loss: 0.3621 - accuracy: 0.8512\n",
            "Epoch 166/500\n",
            "8/8 [==============================] - 0s 3ms/step - loss: 0.3841 - accuracy: 0.8306\n",
            "Epoch 167/500\n",
            "8/8 [==============================] - 0s 3ms/step - loss: 0.3565 - accuracy: 0.8264\n",
            "Epoch 168/500\n",
            "8/8 [==============================] - 0s 4ms/step - loss: 0.3893 - accuracy: 0.8264\n",
            "Epoch 169/500\n",
            "8/8 [==============================] - 0s 6ms/step - loss: 0.3961 - accuracy: 0.8223\n",
            "Epoch 170/500\n",
            "8/8 [==============================] - 0s 5ms/step - loss: 0.3999 - accuracy: 0.8223\n",
            "Epoch 171/500\n",
            "8/8 [==============================] - 0s 7ms/step - loss: 0.3873 - accuracy: 0.8264\n",
            "Epoch 172/500\n",
            "8/8 [==============================] - 0s 6ms/step - loss: 0.3594 - accuracy: 0.8347\n",
            "Epoch 173/500\n",
            "8/8 [==============================] - 0s 10ms/step - loss: 0.3614 - accuracy: 0.8347\n",
            "Epoch 174/500\n",
            "8/8 [==============================] - 0s 10ms/step - loss: 0.3679 - accuracy: 0.8471\n",
            "Epoch 175/500\n",
            "8/8 [==============================] - 0s 13ms/step - loss: 0.3615 - accuracy: 0.8347\n",
            "Epoch 176/500\n",
            "8/8 [==============================] - 0s 11ms/step - loss: 0.3604 - accuracy: 0.8471\n",
            "Epoch 177/500\n",
            "8/8 [==============================] - 0s 7ms/step - loss: 0.3566 - accuracy: 0.8430\n",
            "Epoch 178/500\n",
            "8/8 [==============================] - 0s 7ms/step - loss: 0.3581 - accuracy: 0.8595\n",
            "Epoch 179/500\n",
            "8/8 [==============================] - 0s 6ms/step - loss: 0.3556 - accuracy: 0.8471\n",
            "Epoch 180/500\n",
            "8/8 [==============================] - 0s 4ms/step - loss: 0.3620 - accuracy: 0.8471\n",
            "Epoch 181/500\n",
            "8/8 [==============================] - 0s 5ms/step - loss: 0.3615 - accuracy: 0.8554\n",
            "Epoch 182/500\n",
            "8/8 [==============================] - 0s 5ms/step - loss: 0.3559 - accuracy: 0.8554\n",
            "Epoch 183/500\n",
            "8/8 [==============================] - 0s 5ms/step - loss: 0.3591 - accuracy: 0.8471\n",
            "Epoch 184/500\n",
            "8/8 [==============================] - 0s 4ms/step - loss: 0.3542 - accuracy: 0.8595\n",
            "Epoch 185/500\n",
            "8/8 [==============================] - 0s 4ms/step - loss: 0.3625 - accuracy: 0.8512\n",
            "Epoch 186/500\n",
            "8/8 [==============================] - 0s 4ms/step - loss: 0.3671 - accuracy: 0.8347\n",
            "Epoch 187/500\n",
            "8/8 [==============================] - 0s 3ms/step - loss: 0.3720 - accuracy: 0.8347\n",
            "Epoch 188/500\n",
            "8/8 [==============================] - 0s 3ms/step - loss: 0.3871 - accuracy: 0.8512\n",
            "Epoch 189/500\n",
            "8/8 [==============================] - 0s 3ms/step - loss: 0.3718 - accuracy: 0.8554\n",
            "Epoch 190/500\n",
            "8/8 [==============================] - 0s 3ms/step - loss: 0.3533 - accuracy: 0.8430\n",
            "Epoch 191/500\n",
            "8/8 [==============================] - 0s 3ms/step - loss: 0.3630 - accuracy: 0.8471\n",
            "Epoch 192/500\n",
            "8/8 [==============================] - 0s 3ms/step - loss: 0.3723 - accuracy: 0.8347\n",
            "Epoch 193/500\n",
            "8/8 [==============================] - 0s 3ms/step - loss: 0.3647 - accuracy: 0.8347\n",
            "Epoch 194/500\n",
            "8/8 [==============================] - 0s 4ms/step - loss: 0.3879 - accuracy: 0.8099\n",
            "Epoch 195/500\n",
            "8/8 [==============================] - 0s 3ms/step - loss: 0.3611 - accuracy: 0.8430\n",
            "Epoch 196/500\n",
            "8/8 [==============================] - 0s 3ms/step - loss: 0.3681 - accuracy: 0.8471\n",
            "Epoch 197/500\n",
            "8/8 [==============================] - 0s 3ms/step - loss: 0.3547 - accuracy: 0.8430\n",
            "Epoch 198/500\n",
            "8/8 [==============================] - 0s 3ms/step - loss: 0.3653 - accuracy: 0.8347\n",
            "Epoch 199/500\n",
            "8/8 [==============================] - 0s 4ms/step - loss: 0.3525 - accuracy: 0.8471\n",
            "Epoch 200/500\n",
            "8/8 [==============================] - 0s 3ms/step - loss: 0.3580 - accuracy: 0.8554\n",
            "Epoch 201/500\n",
            "8/8 [==============================] - 0s 3ms/step - loss: 0.3556 - accuracy: 0.8512\n",
            "Epoch 202/500\n",
            "8/8 [==============================] - 0s 4ms/step - loss: 0.3565 - accuracy: 0.8347\n",
            "Epoch 203/500\n",
            "8/8 [==============================] - 0s 3ms/step - loss: 0.3571 - accuracy: 0.8554\n",
            "Epoch 204/500\n",
            "8/8 [==============================] - 0s 3ms/step - loss: 0.3608 - accuracy: 0.8471\n",
            "Epoch 205/500\n",
            "8/8 [==============================] - 0s 3ms/step - loss: 0.3600 - accuracy: 0.8512\n",
            "Epoch 206/500\n",
            "8/8 [==============================] - 0s 3ms/step - loss: 0.3597 - accuracy: 0.8636\n",
            "Epoch 207/500\n",
            "8/8 [==============================] - 0s 3ms/step - loss: 0.3549 - accuracy: 0.8347\n",
            "Epoch 208/500\n",
            "8/8 [==============================] - 0s 3ms/step - loss: 0.3565 - accuracy: 0.8471\n",
            "Epoch 209/500\n",
            "8/8 [==============================] - 0s 3ms/step - loss: 0.3578 - accuracy: 0.8264\n",
            "Epoch 210/500\n",
            "8/8 [==============================] - 0s 3ms/step - loss: 0.3555 - accuracy: 0.8512\n",
            "Epoch 211/500\n",
            "8/8 [==============================] - 0s 4ms/step - loss: 0.3519 - accuracy: 0.8595\n",
            "Epoch 212/500\n",
            "8/8 [==============================] - 0s 3ms/step - loss: 0.3514 - accuracy: 0.8512\n",
            "Epoch 213/500\n",
            "8/8 [==============================] - 0s 4ms/step - loss: 0.3556 - accuracy: 0.8430\n",
            "Epoch 214/500\n",
            "8/8 [==============================] - 0s 3ms/step - loss: 0.3643 - accuracy: 0.8512\n",
            "Epoch 215/500\n",
            "8/8 [==============================] - 0s 3ms/step - loss: 0.3623 - accuracy: 0.8182\n",
            "Epoch 216/500\n",
            "8/8 [==============================] - 0s 3ms/step - loss: 0.3514 - accuracy: 0.8430\n",
            "Epoch 217/500\n",
            "8/8 [==============================] - 0s 3ms/step - loss: 0.3496 - accuracy: 0.8554\n",
            "Epoch 218/500\n",
            "8/8 [==============================] - 0s 3ms/step - loss: 0.3630 - accuracy: 0.8347\n",
            "Epoch 219/500\n",
            "8/8 [==============================] - 0s 4ms/step - loss: 0.3862 - accuracy: 0.8017\n",
            "Epoch 220/500\n",
            "8/8 [==============================] - 0s 3ms/step - loss: 0.3606 - accuracy: 0.8430\n",
            "Epoch 221/500\n",
            "8/8 [==============================] - 0s 3ms/step - loss: 0.3561 - accuracy: 0.8388\n",
            "Epoch 222/500\n",
            "8/8 [==============================] - 0s 3ms/step - loss: 0.3554 - accuracy: 0.8471\n",
            "Epoch 223/500\n",
            "8/8 [==============================] - 0s 3ms/step - loss: 0.3490 - accuracy: 0.8388\n",
            "Epoch 224/500\n",
            "8/8 [==============================] - 0s 3ms/step - loss: 0.3503 - accuracy: 0.8554\n",
            "Epoch 225/500\n",
            "8/8 [==============================] - 0s 3ms/step - loss: 0.3529 - accuracy: 0.8430\n",
            "Epoch 226/500\n",
            "8/8 [==============================] - 0s 4ms/step - loss: 0.3531 - accuracy: 0.8430\n",
            "Epoch 227/500\n",
            "8/8 [==============================] - 0s 4ms/step - loss: 0.3835 - accuracy: 0.8182\n",
            "Epoch 228/500\n",
            "8/8 [==============================] - 0s 3ms/step - loss: 0.3587 - accuracy: 0.8554\n",
            "Epoch 229/500\n",
            "8/8 [==============================] - 0s 3ms/step - loss: 0.3626 - accuracy: 0.8347\n",
            "Epoch 230/500\n",
            "8/8 [==============================] - 0s 3ms/step - loss: 0.3626 - accuracy: 0.8388\n",
            "Epoch 231/500\n",
            "8/8 [==============================] - 0s 3ms/step - loss: 0.3570 - accuracy: 0.8554\n",
            "Epoch 232/500\n",
            "8/8 [==============================] - 0s 3ms/step - loss: 0.3580 - accuracy: 0.8306\n",
            "Epoch 233/500\n",
            "8/8 [==============================] - 0s 3ms/step - loss: 0.3538 - accuracy: 0.8595\n",
            "Epoch 234/500\n",
            "8/8 [==============================] - 0s 3ms/step - loss: 0.3537 - accuracy: 0.8306\n",
            "Epoch 235/500\n",
            "8/8 [==============================] - 0s 3ms/step - loss: 0.3689 - accuracy: 0.8306\n",
            "Epoch 236/500\n",
            "8/8 [==============================] - 0s 3ms/step - loss: 0.3660 - accuracy: 0.8347\n",
            "Epoch 237/500\n",
            "8/8 [==============================] - 0s 3ms/step - loss: 0.3679 - accuracy: 0.8306\n",
            "Epoch 238/500\n",
            "8/8 [==============================] - 0s 3ms/step - loss: 0.3570 - accuracy: 0.8430\n",
            "Epoch 239/500\n",
            "8/8 [==============================] - 0s 3ms/step - loss: 0.3924 - accuracy: 0.8099\n",
            "Epoch 240/500\n",
            "8/8 [==============================] - 0s 3ms/step - loss: 0.3591 - accuracy: 0.8595\n",
            "Epoch 241/500\n",
            "8/8 [==============================] - 0s 3ms/step - loss: 0.3811 - accuracy: 0.8223\n",
            "Epoch 242/500\n",
            "8/8 [==============================] - 0s 4ms/step - loss: 0.3621 - accuracy: 0.8512\n",
            "Epoch 243/500\n",
            "8/8 [==============================] - 0s 3ms/step - loss: 0.3757 - accuracy: 0.8306\n",
            "Epoch 244/500\n",
            "8/8 [==============================] - 0s 3ms/step - loss: 0.3581 - accuracy: 0.8430\n",
            "Epoch 245/500\n",
            "8/8 [==============================] - 0s 3ms/step - loss: 0.3602 - accuracy: 0.8471\n",
            "Epoch 246/500\n",
            "8/8 [==============================] - 0s 3ms/step - loss: 0.3490 - accuracy: 0.8554\n",
            "Epoch 247/500\n",
            "8/8 [==============================] - 0s 3ms/step - loss: 0.3499 - accuracy: 0.8636\n",
            "Epoch 248/500\n",
            "8/8 [==============================] - 0s 3ms/step - loss: 0.3692 - accuracy: 0.8388\n",
            "Epoch 249/500\n",
            "8/8 [==============================] - 0s 3ms/step - loss: 0.3524 - accuracy: 0.8388\n",
            "Epoch 250/500\n",
            "8/8 [==============================] - 0s 3ms/step - loss: 0.3528 - accuracy: 0.8430\n",
            "Epoch 251/500\n",
            "8/8 [==============================] - 0s 3ms/step - loss: 0.3467 - accuracy: 0.8471\n",
            "Epoch 252/500\n",
            "8/8 [==============================] - 0s 3ms/step - loss: 0.3465 - accuracy: 0.8512\n",
            "Epoch 253/500\n",
            "8/8 [==============================] - 0s 3ms/step - loss: 0.3449 - accuracy: 0.8595\n",
            "Epoch 254/500\n",
            "8/8 [==============================] - 0s 3ms/step - loss: 0.3463 - accuracy: 0.8554\n",
            "Epoch 255/500\n",
            "8/8 [==============================] - 0s 4ms/step - loss: 0.3481 - accuracy: 0.8636\n",
            "Epoch 256/500\n",
            "8/8 [==============================] - 0s 3ms/step - loss: 0.3524 - accuracy: 0.8512\n",
            "Epoch 257/500\n",
            "8/8 [==============================] - 0s 3ms/step - loss: 0.3524 - accuracy: 0.8430\n",
            "Epoch 258/500\n",
            "8/8 [==============================] - 0s 3ms/step - loss: 0.3555 - accuracy: 0.8430\n",
            "Epoch 259/500\n",
            "8/8 [==============================] - 0s 3ms/step - loss: 0.3504 - accuracy: 0.8512\n",
            "Epoch 260/500\n",
            "8/8 [==============================] - 0s 3ms/step - loss: 0.3456 - accuracy: 0.8512\n",
            "Epoch 261/500\n",
            "8/8 [==============================] - 0s 3ms/step - loss: 0.3447 - accuracy: 0.8595\n",
            "Epoch 262/500\n",
            "8/8 [==============================] - 0s 3ms/step - loss: 0.3494 - accuracy: 0.8430\n",
            "Epoch 263/500\n",
            "8/8 [==============================] - 0s 4ms/step - loss: 0.3525 - accuracy: 0.8388\n",
            "Epoch 264/500\n",
            "8/8 [==============================] - 0s 3ms/step - loss: 0.3534 - accuracy: 0.8388\n",
            "Epoch 265/500\n",
            "8/8 [==============================] - 0s 3ms/step - loss: 0.3729 - accuracy: 0.8388\n",
            "Epoch 266/500\n",
            "8/8 [==============================] - 0s 3ms/step - loss: 0.3689 - accuracy: 0.8388\n",
            "Epoch 267/500\n",
            "8/8 [==============================] - 0s 4ms/step - loss: 0.3676 - accuracy: 0.8264\n",
            "Epoch 268/500\n",
            "8/8 [==============================] - 0s 3ms/step - loss: 0.3720 - accuracy: 0.8306\n",
            "Epoch 269/500\n",
            "8/8 [==============================] - 0s 3ms/step - loss: 0.3644 - accuracy: 0.8223\n",
            "Epoch 270/500\n",
            "8/8 [==============================] - 0s 3ms/step - loss: 0.3559 - accuracy: 0.8636\n",
            "Epoch 271/500\n",
            "8/8 [==============================] - 0s 3ms/step - loss: 0.3448 - accuracy: 0.8595\n",
            "Epoch 272/500\n",
            "8/8 [==============================] - 0s 3ms/step - loss: 0.3567 - accuracy: 0.8347\n",
            "Epoch 273/500\n",
            "8/8 [==============================] - 0s 3ms/step - loss: 0.3643 - accuracy: 0.8471\n",
            "Epoch 274/500\n",
            "8/8 [==============================] - 0s 3ms/step - loss: 0.3472 - accuracy: 0.8512\n",
            "Epoch 275/500\n",
            "8/8 [==============================] - 0s 3ms/step - loss: 0.3867 - accuracy: 0.8264\n",
            "Epoch 276/500\n",
            "8/8 [==============================] - 0s 3ms/step - loss: 0.4083 - accuracy: 0.8223\n",
            "Epoch 277/500\n",
            "8/8 [==============================] - 0s 3ms/step - loss: 0.3488 - accuracy: 0.8636\n",
            "Epoch 278/500\n",
            "8/8 [==============================] - 0s 3ms/step - loss: 0.3438 - accuracy: 0.8471\n",
            "Epoch 279/500\n",
            "8/8 [==============================] - 0s 3ms/step - loss: 0.3650 - accuracy: 0.8223\n",
            "Epoch 280/500\n",
            "8/8 [==============================] - 0s 3ms/step - loss: 0.3571 - accuracy: 0.8554\n",
            "Epoch 281/500\n",
            "8/8 [==============================] - 0s 3ms/step - loss: 0.3820 - accuracy: 0.8264\n",
            "Epoch 282/500\n",
            "8/8 [==============================] - 0s 3ms/step - loss: 0.3863 - accuracy: 0.8182\n",
            "Epoch 283/500\n",
            "8/8 [==============================] - 0s 4ms/step - loss: 0.3639 - accuracy: 0.8471\n",
            "Epoch 284/500\n",
            "8/8 [==============================] - 0s 3ms/step - loss: 0.3580 - accuracy: 0.8388\n",
            "Epoch 285/500\n",
            "8/8 [==============================] - 0s 3ms/step - loss: 0.3582 - accuracy: 0.8554\n",
            "Epoch 286/500\n",
            "8/8 [==============================] - 0s 4ms/step - loss: 0.3656 - accuracy: 0.8471\n",
            "Epoch 287/500\n",
            "8/8 [==============================] - 0s 4ms/step - loss: 0.3512 - accuracy: 0.8554\n",
            "Epoch 288/500\n",
            "8/8 [==============================] - 0s 3ms/step - loss: 0.3690 - accuracy: 0.8347\n",
            "Epoch 289/500\n",
            "8/8 [==============================] - 0s 3ms/step - loss: 0.3577 - accuracy: 0.8430\n",
            "Epoch 290/500\n",
            "8/8 [==============================] - 0s 3ms/step - loss: 0.3485 - accuracy: 0.8554\n",
            "Epoch 291/500\n",
            "8/8 [==============================] - 0s 4ms/step - loss: 0.3505 - accuracy: 0.8554\n",
            "Epoch 292/500\n",
            "8/8 [==============================] - 0s 3ms/step - loss: 0.3543 - accuracy: 0.8471\n",
            "Epoch 293/500\n",
            "8/8 [==============================] - 0s 4ms/step - loss: 0.3652 - accuracy: 0.8388\n",
            "Epoch 294/500\n",
            "8/8 [==============================] - 0s 3ms/step - loss: 0.3624 - accuracy: 0.8264\n",
            "Epoch 295/500\n",
            "8/8 [==============================] - 0s 4ms/step - loss: 0.3432 - accuracy: 0.8636\n",
            "Epoch 296/500\n",
            "8/8 [==============================] - 0s 3ms/step - loss: 0.3453 - accuracy: 0.8471\n",
            "Epoch 297/500\n",
            "8/8 [==============================] - 0s 3ms/step - loss: 0.3515 - accuracy: 0.8471\n",
            "Epoch 298/500\n",
            "8/8 [==============================] - 0s 3ms/step - loss: 0.3471 - accuracy: 0.8595\n",
            "Epoch 299/500\n",
            "8/8 [==============================] - 0s 3ms/step - loss: 0.3666 - accuracy: 0.8471\n",
            "Epoch 300/500\n",
            "8/8 [==============================] - 0s 4ms/step - loss: 0.3874 - accuracy: 0.8306\n",
            "Epoch 301/500\n",
            "8/8 [==============================] - 0s 4ms/step - loss: 0.3758 - accuracy: 0.8264\n",
            "Epoch 302/500\n",
            "8/8 [==============================] - 0s 3ms/step - loss: 0.3802 - accuracy: 0.8388\n",
            "Epoch 303/500\n",
            "8/8 [==============================] - 0s 3ms/step - loss: 0.3543 - accuracy: 0.8306\n",
            "Epoch 304/500\n",
            "8/8 [==============================] - 0s 3ms/step - loss: 0.3598 - accuracy: 0.8512\n",
            "Epoch 305/500\n",
            "8/8 [==============================] - 0s 4ms/step - loss: 0.3545 - accuracy: 0.8512\n",
            "Epoch 306/500\n",
            "8/8 [==============================] - 0s 3ms/step - loss: 0.3436 - accuracy: 0.8554\n",
            "Epoch 307/500\n",
            "8/8 [==============================] - 0s 3ms/step - loss: 0.3508 - accuracy: 0.8471\n",
            "Epoch 308/500\n",
            "8/8 [==============================] - 0s 3ms/step - loss: 0.3985 - accuracy: 0.8058\n",
            "Epoch 309/500\n",
            "8/8 [==============================] - 0s 3ms/step - loss: 0.3732 - accuracy: 0.8264\n",
            "Epoch 310/500\n",
            "8/8 [==============================] - 0s 3ms/step - loss: 0.3734 - accuracy: 0.8347\n",
            "Epoch 311/500\n",
            "8/8 [==============================] - 0s 3ms/step - loss: 0.3589 - accuracy: 0.8554\n",
            "Epoch 312/500\n",
            "8/8 [==============================] - 0s 3ms/step - loss: 0.3504 - accuracy: 0.8388\n",
            "Epoch 313/500\n",
            "8/8 [==============================] - 0s 3ms/step - loss: 0.3555 - accuracy: 0.8471\n",
            "Epoch 314/500\n",
            "8/8 [==============================] - 0s 3ms/step - loss: 0.3547 - accuracy: 0.8430\n",
            "Epoch 315/500\n",
            "8/8 [==============================] - 0s 3ms/step - loss: 0.3472 - accuracy: 0.8636\n",
            "Epoch 316/500\n",
            "8/8 [==============================] - 0s 3ms/step - loss: 0.3446 - accuracy: 0.8678\n",
            "Epoch 317/500\n",
            "8/8 [==============================] - 0s 3ms/step - loss: 0.3410 - accuracy: 0.8595\n",
            "Epoch 318/500\n",
            "8/8 [==============================] - 0s 3ms/step - loss: 0.3466 - accuracy: 0.8554\n",
            "Epoch 319/500\n",
            "8/8 [==============================] - 0s 3ms/step - loss: 0.3546 - accuracy: 0.8347\n",
            "Epoch 320/500\n",
            "8/8 [==============================] - 0s 3ms/step - loss: 0.3542 - accuracy: 0.8554\n",
            "Epoch 321/500\n",
            "8/8 [==============================] - 0s 3ms/step - loss: 0.3458 - accuracy: 0.8595\n",
            "Epoch 322/500\n",
            "8/8 [==============================] - 0s 3ms/step - loss: 0.3477 - accuracy: 0.8595\n",
            "Epoch 323/500\n",
            "8/8 [==============================] - 0s 4ms/step - loss: 0.3369 - accuracy: 0.8636\n",
            "Epoch 324/500\n",
            "8/8 [==============================] - 0s 4ms/step - loss: 0.3424 - accuracy: 0.8554\n",
            "Epoch 325/500\n",
            "8/8 [==============================] - 0s 4ms/step - loss: 0.3585 - accuracy: 0.8388\n",
            "Epoch 326/500\n",
            "8/8 [==============================] - 0s 3ms/step - loss: 0.3893 - accuracy: 0.8182\n",
            "Epoch 327/500\n",
            "8/8 [==============================] - 0s 3ms/step - loss: 0.3578 - accuracy: 0.8347\n",
            "Epoch 328/500\n",
            "8/8 [==============================] - 0s 3ms/step - loss: 0.3458 - accuracy: 0.8636\n",
            "Epoch 329/500\n",
            "8/8 [==============================] - 0s 3ms/step - loss: 0.3462 - accuracy: 0.8719\n",
            "Epoch 330/500\n",
            "8/8 [==============================] - 0s 3ms/step - loss: 0.3420 - accuracy: 0.8595\n",
            "Epoch 331/500\n",
            "8/8 [==============================] - 0s 3ms/step - loss: 0.3676 - accuracy: 0.8223\n",
            "Epoch 332/500\n",
            "8/8 [==============================] - 0s 3ms/step - loss: 0.3571 - accuracy: 0.8471\n",
            "Epoch 333/500\n",
            "8/8 [==============================] - 0s 3ms/step - loss: 0.3375 - accuracy: 0.8636\n",
            "Epoch 334/500\n",
            "8/8 [==============================] - 0s 3ms/step - loss: 0.3411 - accuracy: 0.8471\n",
            "Epoch 335/500\n",
            "8/8 [==============================] - 0s 3ms/step - loss: 0.3469 - accuracy: 0.8595\n",
            "Epoch 336/500\n",
            "8/8 [==============================] - 0s 3ms/step - loss: 0.3388 - accuracy: 0.8636\n",
            "Epoch 337/500\n",
            "8/8 [==============================] - 0s 3ms/step - loss: 0.3474 - accuracy: 0.8554\n",
            "Epoch 338/500\n",
            "8/8 [==============================] - 0s 3ms/step - loss: 0.3500 - accuracy: 0.8595\n",
            "Epoch 339/500\n",
            "8/8 [==============================] - 0s 3ms/step - loss: 0.3506 - accuracy: 0.8512\n",
            "Epoch 340/500\n",
            "8/8 [==============================] - 0s 3ms/step - loss: 0.3578 - accuracy: 0.8430\n",
            "Epoch 341/500\n",
            "8/8 [==============================] - 0s 4ms/step - loss: 0.3504 - accuracy: 0.8512\n",
            "Epoch 342/500\n",
            "8/8 [==============================] - 0s 3ms/step - loss: 0.3391 - accuracy: 0.8595\n",
            "Epoch 343/500\n",
            "8/8 [==============================] - 0s 3ms/step - loss: 0.3547 - accuracy: 0.8719\n",
            "Epoch 344/500\n",
            "8/8 [==============================] - 0s 3ms/step - loss: 0.3406 - accuracy: 0.8636\n",
            "Epoch 345/500\n",
            "8/8 [==============================] - 0s 3ms/step - loss: 0.3475 - accuracy: 0.8554\n",
            "Epoch 346/500\n",
            "8/8 [==============================] - 0s 3ms/step - loss: 0.3521 - accuracy: 0.8595\n",
            "Epoch 347/500\n",
            "8/8 [==============================] - 0s 4ms/step - loss: 0.3473 - accuracy: 0.8430\n",
            "Epoch 348/500\n",
            "8/8 [==============================] - 0s 4ms/step - loss: 0.3445 - accuracy: 0.8554\n",
            "Epoch 349/500\n",
            "8/8 [==============================] - 0s 3ms/step - loss: 0.3512 - accuracy: 0.8512\n",
            "Epoch 350/500\n",
            "8/8 [==============================] - 0s 4ms/step - loss: 0.3665 - accuracy: 0.8347\n",
            "Epoch 351/500\n",
            "8/8 [==============================] - 0s 3ms/step - loss: 0.3410 - accuracy: 0.8471\n",
            "Epoch 352/500\n",
            "8/8 [==============================] - 0s 3ms/step - loss: 0.3453 - accuracy: 0.8512\n",
            "Epoch 353/500\n",
            "8/8 [==============================] - 0s 3ms/step - loss: 0.3405 - accuracy: 0.8719\n",
            "Epoch 354/500\n",
            "8/8 [==============================] - 0s 4ms/step - loss: 0.3465 - accuracy: 0.8430\n",
            "Epoch 355/500\n",
            "8/8 [==============================] - 0s 3ms/step - loss: 0.3492 - accuracy: 0.8388\n",
            "Epoch 356/500\n",
            "8/8 [==============================] - 0s 3ms/step - loss: 0.3579 - accuracy: 0.8306\n",
            "Epoch 357/500\n",
            "8/8 [==============================] - 0s 3ms/step - loss: 0.3943 - accuracy: 0.8388\n",
            "Epoch 358/500\n",
            "8/8 [==============================] - 0s 4ms/step - loss: 0.3458 - accuracy: 0.8595\n",
            "Epoch 359/500\n",
            "8/8 [==============================] - 0s 3ms/step - loss: 0.3844 - accuracy: 0.8264\n",
            "Epoch 360/500\n",
            "8/8 [==============================] - 0s 3ms/step - loss: 0.3892 - accuracy: 0.8182\n",
            "Epoch 361/500\n",
            "8/8 [==============================] - 0s 3ms/step - loss: 0.3608 - accuracy: 0.8388\n",
            "Epoch 362/500\n",
            "8/8 [==============================] - 0s 3ms/step - loss: 0.3529 - accuracy: 0.8306\n",
            "Epoch 363/500\n",
            "8/8 [==============================] - 0s 3ms/step - loss: 0.3441 - accuracy: 0.8554\n",
            "Epoch 364/500\n",
            "8/8 [==============================] - 0s 3ms/step - loss: 0.3398 - accuracy: 0.8636\n",
            "Epoch 365/500\n",
            "8/8 [==============================] - 0s 3ms/step - loss: 0.3547 - accuracy: 0.8554\n",
            "Epoch 366/500\n",
            "8/8 [==============================] - 0s 3ms/step - loss: 0.3378 - accuracy: 0.8595\n",
            "Epoch 367/500\n",
            "8/8 [==============================] - 0s 3ms/step - loss: 0.3405 - accuracy: 0.8512\n",
            "Epoch 368/500\n",
            "8/8 [==============================] - 0s 3ms/step - loss: 0.3510 - accuracy: 0.8595\n",
            "Epoch 369/500\n",
            "8/8 [==============================] - 0s 4ms/step - loss: 0.3464 - accuracy: 0.8678\n",
            "Epoch 370/500\n",
            "8/8 [==============================] - 0s 4ms/step - loss: 0.3411 - accuracy: 0.8595\n",
            "Epoch 371/500\n",
            "8/8 [==============================] - 0s 3ms/step - loss: 0.3389 - accuracy: 0.8719\n",
            "Epoch 372/500\n",
            "8/8 [==============================] - 0s 3ms/step - loss: 0.3410 - accuracy: 0.8554\n",
            "Epoch 373/500\n",
            "8/8 [==============================] - 0s 3ms/step - loss: 0.3401 - accuracy: 0.8760\n",
            "Epoch 374/500\n",
            "8/8 [==============================] - 0s 3ms/step - loss: 0.3466 - accuracy: 0.8595\n",
            "Epoch 375/500\n",
            "8/8 [==============================] - 0s 3ms/step - loss: 0.3417 - accuracy: 0.8554\n",
            "Epoch 376/500\n",
            "8/8 [==============================] - 0s 3ms/step - loss: 0.3412 - accuracy: 0.8678\n",
            "Epoch 377/500\n",
            "8/8 [==============================] - 0s 3ms/step - loss: 0.3434 - accuracy: 0.8554\n",
            "Epoch 378/500\n",
            "8/8 [==============================] - 0s 3ms/step - loss: 0.3527 - accuracy: 0.8512\n",
            "Epoch 379/500\n",
            "8/8 [==============================] - 0s 3ms/step - loss: 0.3620 - accuracy: 0.8471\n",
            "Epoch 380/500\n",
            "8/8 [==============================] - 0s 3ms/step - loss: 0.3433 - accuracy: 0.8636\n",
            "Epoch 381/500\n",
            "8/8 [==============================] - 0s 3ms/step - loss: 0.3416 - accuracy: 0.8471\n",
            "Epoch 382/500\n",
            "8/8 [==============================] - 0s 3ms/step - loss: 0.3504 - accuracy: 0.8595\n",
            "Epoch 383/500\n",
            "8/8 [==============================] - 0s 3ms/step - loss: 0.3365 - accuracy: 0.8678\n",
            "Epoch 384/500\n",
            "8/8 [==============================] - 0s 3ms/step - loss: 0.3453 - accuracy: 0.8430\n",
            "Epoch 385/500\n",
            "8/8 [==============================] - 0s 3ms/step - loss: 0.3410 - accuracy: 0.8471\n",
            "Epoch 386/500\n",
            "8/8 [==============================] - 0s 5ms/step - loss: 0.3439 - accuracy: 0.8595\n",
            "Epoch 387/500\n",
            "8/8 [==============================] - 0s 4ms/step - loss: 0.3428 - accuracy: 0.8760\n",
            "Epoch 388/500\n",
            "8/8 [==============================] - 0s 4ms/step - loss: 0.3976 - accuracy: 0.8140\n",
            "Epoch 389/500\n",
            "8/8 [==============================] - 0s 4ms/step - loss: 0.3752 - accuracy: 0.8512\n",
            "Epoch 390/500\n",
            "8/8 [==============================] - 0s 3ms/step - loss: 0.3471 - accuracy: 0.8595\n",
            "Epoch 391/500\n",
            "8/8 [==============================] - 0s 4ms/step - loss: 0.3360 - accuracy: 0.8802\n",
            "Epoch 392/500\n",
            "8/8 [==============================] - 0s 4ms/step - loss: 0.3379 - accuracy: 0.8554\n",
            "Epoch 393/500\n",
            "8/8 [==============================] - 0s 5ms/step - loss: 0.3479 - accuracy: 0.8512\n",
            "Epoch 394/500\n",
            "8/8 [==============================] - 0s 3ms/step - loss: 0.3506 - accuracy: 0.8512\n",
            "Epoch 395/500\n",
            "8/8 [==============================] - 0s 3ms/step - loss: 0.3507 - accuracy: 0.8595\n",
            "Epoch 396/500\n",
            "8/8 [==============================] - 0s 4ms/step - loss: 0.3706 - accuracy: 0.8264\n",
            "Epoch 397/500\n",
            "8/8 [==============================] - 0s 3ms/step - loss: 0.3416 - accuracy: 0.8636\n",
            "Epoch 398/500\n",
            "8/8 [==============================] - 0s 3ms/step - loss: 0.3501 - accuracy: 0.8554\n",
            "Epoch 399/500\n",
            "8/8 [==============================] - 0s 3ms/step - loss: 0.3361 - accuracy: 0.8678\n",
            "Epoch 400/500\n",
            "8/8 [==============================] - 0s 3ms/step - loss: 0.3386 - accuracy: 0.8636\n",
            "Epoch 401/500\n",
            "8/8 [==============================] - 0s 3ms/step - loss: 0.3386 - accuracy: 0.8636\n",
            "Epoch 402/500\n",
            "8/8 [==============================] - 0s 3ms/step - loss: 0.3361 - accuracy: 0.8678\n",
            "Epoch 403/500\n",
            "8/8 [==============================] - 0s 4ms/step - loss: 0.3370 - accuracy: 0.8636\n",
            "Epoch 404/500\n",
            "8/8 [==============================] - 0s 3ms/step - loss: 0.3441 - accuracy: 0.8595\n",
            "Epoch 405/500\n",
            "8/8 [==============================] - 0s 3ms/step - loss: 0.3385 - accuracy: 0.8595\n",
            "Epoch 406/500\n",
            "8/8 [==============================] - 0s 4ms/step - loss: 0.3468 - accuracy: 0.8595\n",
            "Epoch 407/500\n",
            "8/8 [==============================] - 0s 3ms/step - loss: 0.3456 - accuracy: 0.8471\n",
            "Epoch 408/500\n",
            "8/8 [==============================] - 0s 4ms/step - loss: 0.3421 - accuracy: 0.8430\n",
            "Epoch 409/500\n",
            "8/8 [==============================] - 0s 3ms/step - loss: 0.3486 - accuracy: 0.8471\n",
            "Epoch 410/500\n",
            "8/8 [==============================] - 0s 3ms/step - loss: 0.3387 - accuracy: 0.8719\n",
            "Epoch 411/500\n",
            "8/8 [==============================] - 0s 3ms/step - loss: 0.3389 - accuracy: 0.8512\n",
            "Epoch 412/500\n",
            "8/8 [==============================] - 0s 4ms/step - loss: 0.3474 - accuracy: 0.8595\n",
            "Epoch 413/500\n",
            "8/8 [==============================] - 0s 3ms/step - loss: 0.3438 - accuracy: 0.8554\n",
            "Epoch 414/500\n",
            "8/8 [==============================] - 0s 4ms/step - loss: 0.3349 - accuracy: 0.8802\n",
            "Epoch 415/500\n",
            "8/8 [==============================] - 0s 4ms/step - loss: 0.3410 - accuracy: 0.8430\n",
            "Epoch 416/500\n",
            "8/8 [==============================] - 0s 3ms/step - loss: 0.3648 - accuracy: 0.8347\n",
            "Epoch 417/500\n",
            "8/8 [==============================] - 0s 5ms/step - loss: 0.3637 - accuracy: 0.8223\n",
            "Epoch 418/500\n",
            "8/8 [==============================] - 0s 4ms/step - loss: 0.3537 - accuracy: 0.8636\n",
            "Epoch 419/500\n",
            "8/8 [==============================] - 0s 4ms/step - loss: 0.3432 - accuracy: 0.8430\n",
            "Epoch 420/500\n",
            "8/8 [==============================] - 0s 4ms/step - loss: 0.3537 - accuracy: 0.8512\n",
            "Epoch 421/500\n",
            "8/8 [==============================] - 0s 3ms/step - loss: 0.3603 - accuracy: 0.8512\n",
            "Epoch 422/500\n",
            "8/8 [==============================] - 0s 3ms/step - loss: 0.3518 - accuracy: 0.8595\n",
            "Epoch 423/500\n",
            "8/8 [==============================] - 0s 6ms/step - loss: 0.3422 - accuracy: 0.8595\n",
            "Epoch 424/500\n",
            "8/8 [==============================] - 0s 4ms/step - loss: 0.3622 - accuracy: 0.8471\n",
            "Epoch 425/500\n",
            "8/8 [==============================] - 0s 4ms/step - loss: 0.3379 - accuracy: 0.8554\n",
            "Epoch 426/500\n",
            "8/8 [==============================] - 0s 4ms/step - loss: 0.3906 - accuracy: 0.8306\n",
            "Epoch 427/500\n",
            "8/8 [==============================] - 0s 5ms/step - loss: 0.3725 - accuracy: 0.8430\n",
            "Epoch 428/500\n",
            "8/8 [==============================] - 0s 4ms/step - loss: 0.3365 - accuracy: 0.8802\n",
            "Epoch 429/500\n",
            "8/8 [==============================] - 0s 4ms/step - loss: 0.3391 - accuracy: 0.8678\n",
            "Epoch 430/500\n",
            "8/8 [==============================] - 0s 3ms/step - loss: 0.3493 - accuracy: 0.8471\n",
            "Epoch 431/500\n",
            "8/8 [==============================] - 0s 3ms/step - loss: 0.3373 - accuracy: 0.8512\n",
            "Epoch 432/500\n",
            "8/8 [==============================] - 0s 4ms/step - loss: 0.3492 - accuracy: 0.8430\n",
            "Epoch 433/500\n",
            "8/8 [==============================] - 0s 4ms/step - loss: 0.3439 - accuracy: 0.8595\n",
            "Epoch 434/500\n",
            "8/8 [==============================] - 0s 3ms/step - loss: 0.3436 - accuracy: 0.8554\n",
            "Epoch 435/500\n",
            "8/8 [==============================] - 0s 3ms/step - loss: 0.3503 - accuracy: 0.8471\n",
            "Epoch 436/500\n",
            "8/8 [==============================] - 0s 4ms/step - loss: 0.3402 - accuracy: 0.8719\n",
            "Epoch 437/500\n",
            "8/8 [==============================] - 0s 4ms/step - loss: 0.3389 - accuracy: 0.8636\n",
            "Epoch 438/500\n",
            "8/8 [==============================] - 0s 4ms/step - loss: 0.3470 - accuracy: 0.8554\n",
            "Epoch 439/500\n",
            "8/8 [==============================] - 0s 3ms/step - loss: 0.3424 - accuracy: 0.8595\n",
            "Epoch 440/500\n",
            "8/8 [==============================] - 0s 4ms/step - loss: 0.3459 - accuracy: 0.8595\n",
            "Epoch 441/500\n",
            "8/8 [==============================] - 0s 3ms/step - loss: 0.3416 - accuracy: 0.8512\n",
            "Epoch 442/500\n",
            "8/8 [==============================] - 0s 3ms/step - loss: 0.3446 - accuracy: 0.8678\n",
            "Epoch 443/500\n",
            "8/8 [==============================] - 0s 4ms/step - loss: 0.3414 - accuracy: 0.8595\n",
            "Epoch 444/500\n",
            "8/8 [==============================] - 0s 4ms/step - loss: 0.3355 - accuracy: 0.8636\n",
            "Epoch 445/500\n",
            "8/8 [==============================] - 0s 5ms/step - loss: 0.3473 - accuracy: 0.8512\n",
            "Epoch 446/500\n",
            "8/8 [==============================] - 0s 3ms/step - loss: 0.3381 - accuracy: 0.8595\n",
            "Epoch 447/500\n",
            "8/8 [==============================] - 0s 3ms/step - loss: 0.3414 - accuracy: 0.8595\n",
            "Epoch 448/500\n",
            "8/8 [==============================] - 0s 3ms/step - loss: 0.3448 - accuracy: 0.8471\n",
            "Epoch 449/500\n",
            "8/8 [==============================] - 0s 3ms/step - loss: 0.3440 - accuracy: 0.8636\n",
            "Epoch 450/500\n",
            "8/8 [==============================] - 0s 3ms/step - loss: 0.3604 - accuracy: 0.8430\n",
            "Epoch 451/500\n",
            "8/8 [==============================] - 0s 3ms/step - loss: 0.3815 - accuracy: 0.8223\n",
            "Epoch 452/500\n",
            "8/8 [==============================] - 0s 3ms/step - loss: 0.3378 - accuracy: 0.8678\n",
            "Epoch 453/500\n",
            "8/8 [==============================] - 0s 3ms/step - loss: 0.3377 - accuracy: 0.8678\n",
            "Epoch 454/500\n",
            "8/8 [==============================] - 0s 3ms/step - loss: 0.3337 - accuracy: 0.8719\n",
            "Epoch 455/500\n",
            "8/8 [==============================] - 0s 3ms/step - loss: 0.3523 - accuracy: 0.8512\n",
            "Epoch 456/500\n",
            "8/8 [==============================] - 0s 3ms/step - loss: 0.3389 - accuracy: 0.8636\n",
            "Epoch 457/500\n",
            "8/8 [==============================] - 0s 4ms/step - loss: 0.3344 - accuracy: 0.8719\n",
            "Epoch 458/500\n",
            "8/8 [==============================] - 0s 3ms/step - loss: 0.3369 - accuracy: 0.8678\n",
            "Epoch 459/500\n",
            "8/8 [==============================] - 0s 3ms/step - loss: 0.3517 - accuracy: 0.8430\n",
            "Epoch 460/500\n",
            "8/8 [==============================] - 0s 3ms/step - loss: 0.3375 - accuracy: 0.8595\n",
            "Epoch 461/500\n",
            "8/8 [==============================] - 0s 3ms/step - loss: 0.3356 - accuracy: 0.8678\n",
            "Epoch 462/500\n",
            "8/8 [==============================] - 0s 3ms/step - loss: 0.3419 - accuracy: 0.8595\n",
            "Epoch 463/500\n",
            "8/8 [==============================] - 0s 4ms/step - loss: 0.3487 - accuracy: 0.8512\n",
            "Epoch 464/500\n",
            "8/8 [==============================] - 0s 3ms/step - loss: 0.3690 - accuracy: 0.8388\n",
            "Epoch 465/500\n",
            "8/8 [==============================] - 0s 3ms/step - loss: 0.3419 - accuracy: 0.8636\n",
            "Epoch 466/500\n",
            "8/8 [==============================] - 0s 4ms/step - loss: 0.3347 - accuracy: 0.8678\n",
            "Epoch 467/500\n",
            "8/8 [==============================] - 0s 3ms/step - loss: 0.3386 - accuracy: 0.8554\n",
            "Epoch 468/500\n",
            "8/8 [==============================] - 0s 4ms/step - loss: 0.3349 - accuracy: 0.8760\n",
            "Epoch 469/500\n",
            "8/8 [==============================] - 0s 4ms/step - loss: 0.3375 - accuracy: 0.8554\n",
            "Epoch 470/500\n",
            "8/8 [==============================] - 0s 3ms/step - loss: 0.3383 - accuracy: 0.8636\n",
            "Epoch 471/500\n",
            "8/8 [==============================] - 0s 3ms/step - loss: 0.3351 - accuracy: 0.8719\n",
            "Epoch 472/500\n",
            "8/8 [==============================] - 0s 3ms/step - loss: 0.3414 - accuracy: 0.8512\n",
            "Epoch 473/500\n",
            "8/8 [==============================] - 0s 3ms/step - loss: 0.3563 - accuracy: 0.8430\n",
            "Epoch 474/500\n",
            "8/8 [==============================] - 0s 3ms/step - loss: 0.3410 - accuracy: 0.8678\n",
            "Epoch 475/500\n",
            "8/8 [==============================] - 0s 4ms/step - loss: 0.3519 - accuracy: 0.8388\n",
            "Epoch 476/500\n",
            "8/8 [==============================] - 0s 3ms/step - loss: 0.3455 - accuracy: 0.8719\n",
            "Epoch 477/500\n",
            "8/8 [==============================] - 0s 3ms/step - loss: 0.3392 - accuracy: 0.8595\n",
            "Epoch 478/500\n",
            "8/8 [==============================] - 0s 5ms/step - loss: 0.3412 - accuracy: 0.8554\n",
            "Epoch 479/500\n",
            "8/8 [==============================] - 0s 4ms/step - loss: 0.3534 - accuracy: 0.8636\n",
            "Epoch 480/500\n",
            "8/8 [==============================] - 0s 3ms/step - loss: 0.3494 - accuracy: 0.8595\n",
            "Epoch 481/500\n",
            "8/8 [==============================] - 0s 4ms/step - loss: 0.3662 - accuracy: 0.8471\n",
            "Epoch 482/500\n",
            "8/8 [==============================] - 0s 4ms/step - loss: 0.3748 - accuracy: 0.8306\n",
            "Epoch 483/500\n",
            "8/8 [==============================] - 0s 4ms/step - loss: 0.3581 - accuracy: 0.8554\n",
            "Epoch 484/500\n",
            "8/8 [==============================] - 0s 4ms/step - loss: 0.3535 - accuracy: 0.8430\n",
            "Epoch 485/500\n",
            "8/8 [==============================] - 0s 5ms/step - loss: 0.3602 - accuracy: 0.8306\n",
            "Epoch 486/500\n",
            "8/8 [==============================] - 0s 4ms/step - loss: 0.3810 - accuracy: 0.8264\n",
            "Epoch 487/500\n",
            "8/8 [==============================] - 0s 5ms/step - loss: 0.4035 - accuracy: 0.8182\n",
            "Epoch 488/500\n",
            "8/8 [==============================] - 0s 5ms/step - loss: 0.3526 - accuracy: 0.8347\n",
            "Epoch 489/500\n",
            "8/8 [==============================] - 0s 3ms/step - loss: 0.3563 - accuracy: 0.8512\n",
            "Epoch 490/500\n",
            "8/8 [==============================] - 0s 3ms/step - loss: 0.3364 - accuracy: 0.8554\n",
            "Epoch 491/500\n",
            "8/8 [==============================] - 0s 3ms/step - loss: 0.3470 - accuracy: 0.8595\n",
            "Epoch 492/500\n",
            "8/8 [==============================] - 0s 3ms/step - loss: 0.3599 - accuracy: 0.8471\n",
            "Epoch 493/500\n",
            "8/8 [==============================] - 0s 3ms/step - loss: 0.3579 - accuracy: 0.8388\n",
            "Epoch 494/500\n",
            "8/8 [==============================] - 0s 3ms/step - loss: 0.3499 - accuracy: 0.8678\n",
            "Epoch 495/500\n",
            "8/8 [==============================] - 0s 4ms/step - loss: 0.3565 - accuracy: 0.8595\n",
            "Epoch 496/500\n",
            "8/8 [==============================] - 0s 4ms/step - loss: 0.3496 - accuracy: 0.8388\n",
            "Epoch 497/500\n",
            "8/8 [==============================] - 0s 4ms/step - loss: 0.3410 - accuracy: 0.8678\n",
            "Epoch 498/500\n",
            "8/8 [==============================] - 0s 3ms/step - loss: 0.3331 - accuracy: 0.8554\n",
            "Epoch 499/500\n",
            "8/8 [==============================] - 0s 4ms/step - loss: 0.3475 - accuracy: 0.8347\n",
            "Epoch 500/500\n",
            "8/8 [==============================] - 0s 3ms/step - loss: 0.3403 - accuracy: 0.8719\n"
          ]
        },
        {
          "output_type": "execute_result",
          "data": {
            "text/plain": [
              "<keras.callbacks.History at 0x7fa50c5a0e20>"
            ]
          },
          "metadata": {},
          "execution_count": 54
        }
      ]
    },
    {
      "cell_type": "code",
      "source": [
        "Y_pred_nn = model.predict(X_test)"
      ],
      "metadata": {
        "colab": {
          "base_uri": "https://localhost:8080/"
        },
        "id": "LV-MemK9dO24",
        "outputId": "10cef1e0-1273-437c-a4fb-5fc11a58ffb1"
      },
      "execution_count": null,
      "outputs": [
        {
          "output_type": "stream",
          "name": "stdout",
          "text": [
            "2/2 [==============================] - 0s 5ms/step\n"
          ]
        }
      ]
    },
    {
      "cell_type": "code",
      "source": [
        "rounded = [round(x[0]) for x in Y_pred_nn]\n",
        "\n",
        "Y_pred_nn = rounded\n",
        "score_nn = round(accuracy_score(Y_pred_nn,Y_test)*100,2)\n",
        "\n",
        "print(\"The accuracy using Neural Network is: \"+str(score_nn)+\" %\")"
      ],
      "metadata": {
        "colab": {
          "base_uri": "https://localhost:8080/"
        },
        "id": "_118MAOkdTVC",
        "outputId": "93d85919-c7ff-407a-9474-97e3ddf0b7cc"
      },
      "execution_count": null,
      "outputs": [
        {
          "output_type": "stream",
          "name": "stdout",
          "text": [
            "The accuracy using Neural Network is: 85.25 %\n"
          ]
        }
      ]
    },
    {
      "cell_type": "markdown",
      "source": [
        "# **Final Output**"
      ],
      "metadata": {
        "id": "TVXdhghEfUt4"
      }
    },
    {
      "cell_type": "code",
      "source": [
        "scores = [score_lr,score_nb,score_sv,score_knn,score_dt,score_rf,score_xgb,score_nn]\n",
        "algorithms = [\"Logistic Regression\",\"Naive Bayes\",\"Support Vector Machine\",\"K-Nearest Neighbors\",\"Decision Tree\",\"Random Forest\",\"XGBoost\",\"Neural Network\"]    \n",
        "\n",
        "for i in range(len(algorithms)):\n",
        "    print(\"The accuracy score using \"+algorithms[i]+\" is: \"+str(scores[i])+\" %\")\n"
      ],
      "metadata": {
        "colab": {
          "base_uri": "https://localhost:8080/"
        },
        "id": "FuJMZSzddwVw",
        "outputId": "660af6aa-a67f-4525-b298-275f2f976b60"
      },
      "execution_count": null,
      "outputs": [
        {
          "output_type": "stream",
          "name": "stdout",
          "text": [
            "The accuracy score using Logistic Regression is: 85.25 %\n",
            "The accuracy score using Naive Bayes is: 85.25 %\n",
            "The accuracy score using Support Vector Machine is: 81.97 %\n",
            "The accuracy score using K-Nearest Neighbors is: 67.21 %\n",
            "The accuracy score using Decision Tree is: 81.97 %\n",
            "The accuracy score using Random Forest is: 90.16 %\n",
            "The accuracy score using XGBoost is: 78.69 %\n",
            "The accuracy score using Neural Network is: 85.25 %\n"
          ]
        }
      ]
    },
    {
      "cell_type": "code",
      "source": [
        "sns.set(rc={'figure.figsize':(15,8)})\n",
        "plt.xlabel(\"Algorithms\")\n",
        "plt.ylabel(\"Accuracy score\")\n",
        "\n",
        "sns.barplot(x=algorithms,y=scores)"
      ],
      "metadata": {
        "colab": {
          "base_uri": "https://localhost:8080/",
          "height": 722
        },
        "id": "c3hKBTcqdYyt",
        "outputId": "4426572a-48cc-4e97-d9de-970de31340f2"
      },
      "execution_count": null,
      "outputs": [
        {
          "output_type": "execute_result",
          "data": {
            "text/plain": [
              "<Axes: xlabel='Algorithms', ylabel='Accuracy score'>"
            ]
          },
          "metadata": {},
          "execution_count": 73
        },
        {
          "output_type": "display_data",
          "data": {
            "text/plain": [
              "<Figure size 1500x800 with 1 Axes>"
            ],
            "image/png": "[encoded data removed]"
          },
          "metadata": {}
        }
      ]
    },
    {
      "cell_type": "code",
      "source": [],
      "metadata": {
        "id": "5h3fn5deeCdn"
      },
      "execution_count": null,
      "outputs": []
    }
  ]
}